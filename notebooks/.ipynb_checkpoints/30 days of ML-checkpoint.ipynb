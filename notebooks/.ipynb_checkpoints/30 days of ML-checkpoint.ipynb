{
 "cells": [
  {
   "cell_type": "code",
   "execution_count": 6,
   "metadata": {},
   "outputs": [
    {
     "name": "stdout",
     "output_type": "stream",
     "text": [
      "Done\n"
     ]
    }
   ],
   "source": [
    "import matplotlib.pyplot as plt\n",
    "import seaborn as sns\n",
    "import sklearn\n",
    "import pandas as pd\n",
    "import numpy as np\n",
    "\n",
    "from sklearn import preprocessing\n",
    "from sklearn.preprocessing import StandardScaler\n",
    "\n",
    "from sklearn import metrics\n",
    "from sklearn.model_selection import cross_val_score, cross_validate, train_test_split, learning_curve, GridSearchCV\n",
    "from sklearn.metrics import classification_report, confusion_matrix, f1_score, make_scorer, cohen_kappa_score\n",
    "from statistics import mean\n",
    "\n",
    "from sklearn.utils.multiclass import unique_labels\n",
    "\n",
    "from sklearn import svm\n",
    "from sklearn.svm import SVC\n",
    "from sklearn.linear_model import LogisticRegression\n",
    "from sklearn.ensemble import RandomForestClassifier\n",
    "from sklearn.discriminant_analysis import LinearDiscriminantAnalysis\n",
    "from sklearn.neural_network import MLPClassifier\n",
    "\n",
    "test = pd.read_csv(\"30-days-of-ml/test.csv\", delimiter=',', index_col=False)\n",
    "train = pd.read_csv(\"30-days-of-ml/train.csv\", delimiter=',', index_col=False)\n",
    "\n",
    "# Prepare values for training data\n",
    "labels = train.pop('target').values\n",
    "data = train.values\n",
    "\n",
    "scaler = StandardScaler()\n",
    "print(\"Done\")"
   ]
  },
  {
   "cell_type": "code",
   "execution_count": 8,
   "metadata": {},
   "outputs": [
    {
     "name": "stdout",
     "output_type": "stream",
     "text": [
      "[[1 'B' 'B' ... 0.3778726966529537 0.3224009678184022 0.8698501087465733]\n",
      " [2 'B' 'B' ... 0.9217009201766488 0.26197528729594466 0.465082870912738]\n",
      " [3 'A' 'A' ... 0.6201258905023955 0.5414735060540387 0.7638458315431937]\n",
      " ...\n",
      " [499997 'B' 'B' ... 0.6296061987081717 0.7141394859776362\n",
      "  0.2457316387864163]\n",
      " [499998 'A' 'B' ... 0.6111694115578818 0.3802535443261367\n",
      "  0.33203036248980555]\n",
      " [499999 'A' 'A' ... 0.4843917800176473 0.6397543659057895\n",
      "  0.6893168987372914]]\n"
     ]
    }
   ],
   "source": [
    "print(data)"
   ]
  }
 ],
 "metadata": {
  "kernelspec": {
   "display_name": "Python 3",
   "language": "python",
   "name": "python3"
  },
  "language_info": {
   "codemirror_mode": {
    "name": "ipython",
    "version": 3
   },
   "file_extension": ".py",
   "mimetype": "text/x-python",
   "name": "python",
   "nbconvert_exporter": "python",
   "pygments_lexer": "ipython3",
   "version": "3.8.3"
  }
 },
 "nbformat": 4,
 "nbformat_minor": 4
}
