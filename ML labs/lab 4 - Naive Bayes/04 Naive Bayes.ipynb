{
 "cells": [
  {
   "cell_type": "markdown",
   "metadata": {},
   "source": [
    "# Naive Bayes\n",
    "\n",
    "`scikit-learn` provides multiple implementations of Naive Bayes that differ on how conditional probabilities are calculated. So the different implementations are suitable for different types of data. \n",
    "\n",
    "- `CategorialNB` will work with categorical data once it is processed using an `OrdinalEncoder`\n",
    "- `GaussianNB` assumes the numerical features have a Gaussian distribution\n",
    "- `BernoulliNB` binary data\n",
    "- `MultinomialNB` count data, e.g. word counts"
   ]
  },
  {
   "cell_type": "code",
   "execution_count": null,
   "metadata": {},
   "outputs": [],
   "source": [
    "import pandas as pd\n",
    "from sklearn.naive_bayes import MultinomialNB, GaussianNB, BernoulliNB, CategoricalNB\n",
    "from sklearn.metrics import confusion_matrix \n",
    "from sklearn.preprocessing import OneHotEncoder"
   ]
  },
  {
   "cell_type": "code",
   "execution_count": null,
   "metadata": {
    "scrolled": true
   },
   "outputs": [],
   "source": [
    "swim = pd.read_csv('data/Swimming.csv')\n",
    "swim"
   ]
  },
  {
   "cell_type": "markdown",
   "metadata": {},
   "source": [
    "## Categorical NB"
   ]
  },
  {
   "cell_type": "code",
   "execution_count": null,
   "metadata": {},
   "outputs": [],
   "source": [
    "from sklearn.preprocessing import OrdinalEncoder"
   ]
  },
  {
   "cell_type": "code",
   "execution_count": null,
   "metadata": {},
   "outputs": [],
   "source": [
    "y = swim.pop('Swimming').values # Set this as the y (target)\n",
    "print(swim.columns)\n",
    "print(y)"
   ]
  },
  {
   "cell_type": "code",
   "execution_count": null,
   "metadata": {},
   "outputs": [],
   "source": [
    "ord_encoder = OrdinalEncoder()\n",
    "swimOE = ord_encoder.fit_transform(swim)\n",
    "swimOE"
   ]
  },
  {
   "cell_type": "markdown",
   "metadata": {},
   "source": [
    "What ordering do you get for the ordinal features?   \n",
    "Look up the documentation to see how you would fix this if you want to use the OrdinalEncoder"
   ]
  },
  {
   "cell_type": "code",
   "execution_count": null,
   "metadata": {},
   "outputs": [],
   "source": [
    "catNB = CategoricalNB(fit_prior=True, alpha=.0001)\n",
    "swim_catNB = catNB.fit(swimOE,y)\n",
    "y_dash = swim_catNB.predict(swimOE)  #predict training data\n",
    "confusion = confusion_matrix(y, y_dash)\n",
    "print(\"Confusion matrix:\\n{}\".format(confusion)) "
   ]
  },
  {
   "cell_type": "code",
   "execution_count": null,
   "metadata": {},
   "outputs": [],
   "source": [
    "# Three query examples, two from the lecture and one from the training data.\n",
    "\n",
    "squery = pd.DataFrame([[\"Moderate\",\"Moderate\",\"Warm\",\"Light\",\"Some\"],\n",
    "                       [\"Moderate\",\"Moderate\",\"Cold\",\"Moderate\",\"Some\"],\n",
    "                       [\"Moderate\",\"Light\",\"Warm\",\"Light\",\"None\"]\n",
    "                      ], columns=swim.columns)"
   ]
  },
  {
   "cell_type": "code",
   "execution_count": null,
   "metadata": {},
   "outputs": [],
   "source": [
    "X_query = ord_encoder.transform(squery)\n",
    "X_query, X_query.shape"
   ]
  },
  {
   "cell_type": "code",
   "execution_count": null,
   "metadata": {},
   "outputs": [],
   "source": [
    "y_query = swim_catNB.predict(X_query)\n",
    "y_query"
   ]
  },
  {
   "cell_type": "code",
   "execution_count": null,
   "metadata": {},
   "outputs": [],
   "source": [
    "q_probs = swim_catNB.predict_proba(X_query)\n",
    "q_probs"
   ]
  },
  {
   "cell_type": "code",
   "execution_count": null,
   "metadata": {},
   "outputs": [],
   "source": [
    "swim_catNB.get_params()"
   ]
  },
  {
   "cell_type": "markdown",
   "metadata": {},
   "source": [
    "### One-Hot-Encode the training data\n",
    "Here we use one-hot encoding to convert to the Swimming dataset to a numeric format.   \n",
    "This converts the data to a binary format so it is valid to use `BernoulliNB` and possibly `MultinormialNB` - `GaussianNB` not so much. "
   ]
  },
  {
   "cell_type": "code",
   "execution_count": null,
   "metadata": {},
   "outputs": [],
   "source": [
    "swim = pd.read_csv('data/Swimming.csv')\n",
    "y = swim.pop('Swimming').values # Set this as the y (target)\n",
    "\n",
    "\n",
    "onehot_encoder = OneHotEncoder(sparse=False)\n",
    "swimOH = onehot_encoder.fit_transform(swim)\n",
    "swimOH"
   ]
  },
  {
   "cell_type": "code",
   "execution_count": null,
   "metadata": {},
   "outputs": [],
   "source": [
    "onehot_encoder.get_feature_names(swim.columns)"
   ]
  },
  {
   "cell_type": "code",
   "execution_count": null,
   "metadata": {},
   "outputs": [],
   "source": [
    "gnb = GaussianNB()\n",
    "swim_numNB = gnb.fit(swimOH,y)\n",
    "y_dash = swim_numNB.predict(swimOH)\n",
    "confusion = confusion_matrix(y, y_dash)\n",
    "print(\"Confusion matrix:\\n{}\".format(confusion)) "
   ]
  },
  {
   "cell_type": "code",
   "execution_count": null,
   "metadata": {},
   "outputs": [],
   "source": [
    "mnb = MultinomialNB()\n",
    "swim_numNB = mnb.fit(swimOH,y)\n",
    "y_dash = swim_numNB.predict(swimOH)\n",
    "confusion = confusion_matrix(y, y_dash)\n",
    "print(\"Confusion matrix:\\n{}\".format(confusion)) "
   ]
  },
  {
   "cell_type": "code",
   "execution_count": null,
   "metadata": {},
   "outputs": [],
   "source": [
    "bnb = BernoulliNB()\n",
    "swim_numNB = bnb.fit(swimOH,y)\n",
    "y_dash = swim_numNB.predict(swimOH)\n",
    "confusion = confusion_matrix(y, y_dash)\n",
    "print(\"Confusion matrix:\\n{}\".format(confusion)) "
   ]
  },
  {
   "cell_type": "code",
   "execution_count": null,
   "metadata": {},
   "outputs": [],
   "source": [
    "swim_numNB.classes_"
   ]
  },
  {
   "cell_type": "code",
   "execution_count": null,
   "metadata": {},
   "outputs": [],
   "source": [
    "# Three query examples, two from the lecture and one from the training data.\n",
    "\n",
    "squery = pd.DataFrame([[\"Moderate\",\"Moderate\",\"Warm\",\"Light\",\"Some\"],\n",
    "                       [\"Moderate\",\"Moderate\",\"Cold\",\"Moderate\",\"Some\"],\n",
    "                       [\"Moderate\",\"Light\",\"Warm\",\"Light\",\"None\"]\n",
    "                      ], columns=swim.columns)"
   ]
  },
  {
   "cell_type": "code",
   "execution_count": null,
   "metadata": {},
   "outputs": [],
   "source": [
    "X_query = onehot_encoder.transform(squery)\n",
    "X_query, X_query.shape"
   ]
  },
  {
   "cell_type": "code",
   "execution_count": null,
   "metadata": {},
   "outputs": [],
   "source": [
    "y_query = swim_numNB.predict(X_query)\n",
    "y_query"
   ]
  },
  {
   "cell_type": "code",
   "execution_count": null,
   "metadata": {},
   "outputs": [],
   "source": [
    "q_probs = swim_numNB.predict_proba(X_query)\n",
    "q_probs"
   ]
  },
  {
   "cell_type": "markdown",
   "metadata": {},
   "source": [
    "## Gaussian Approximations\n",
    "Gaussian Naive Bayes approximates numerical features using a Normal distribution.  \n",
    "Here we look at the distributions of the Iris features to see if this looks reasonable. "
   ]
  },
  {
   "cell_type": "code",
   "execution_count": null,
   "metadata": {},
   "outputs": [],
   "source": [
    "import seaborn as sns\n",
    "import matplotlib.pyplot as plt\n",
    "from sklearn.datasets import load_iris\n",
    "iris = load_iris()"
   ]
  },
  {
   "cell_type": "code",
   "execution_count": null,
   "metadata": {},
   "outputs": [],
   "source": [
    "findex = 2 # any value in [0,1,2,3] - the feature index\n",
    "c1 = 2     # any value in [0,1,2]  - the classes\n",
    "c2 = 0\n",
    "\n",
    "sns.histplot(iris.data[iris.target == c1][:,findex], label=iris.target_names[c1],\n",
    "            kde=True, stat=\"density\", linewidth=0)\n",
    "sns.histplot(iris.data[iris.target == c2][:,findex], label=iris.target_names[c2],\n",
    "             color = 'orange', kde=True, stat=\"density\", linewidth=0)\n",
    " \n",
    "plt.legend();\n",
    "plt.xlabel(iris.feature_names[findex])\n",
    "plt.ylabel('Probability')"
   ]
  },
  {
   "cell_type": "code",
   "execution_count": null,
   "metadata": {},
   "outputs": [],
   "source": []
  },
  {
   "cell_type": "code",
   "execution_count": null,
   "metadata": {},
   "outputs": [],
   "source": []
  }
 ],
 "metadata": {
  "kernelspec": {
   "display_name": "Python 3",
   "language": "python",
   "name": "python3"
  },
  "language_info": {
   "codemirror_mode": {
    "name": "ipython",
    "version": 3
   },
   "file_extension": ".py",
   "mimetype": "text/x-python",
   "name": "python",
   "nbconvert_exporter": "python",
   "pygments_lexer": "ipython3",
   "version": "3.8.2"
  }
 },
 "nbformat": 4,
 "nbformat_minor": 2
}
