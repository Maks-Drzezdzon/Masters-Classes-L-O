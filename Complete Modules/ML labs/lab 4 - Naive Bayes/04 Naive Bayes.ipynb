{
 "cells": [
  {
   "cell_type": "markdown",
   "metadata": {},
   "source": [
    "# Naive Bayes\n",
    "\n",
    "`scikit-learn` provides multiple implementations of Naive Bayes that differ on how conditional probabilities are calculated. So the different implementations are suitable for different types of data. \n",
    "\n",
    "- `CategorialNB` will work with categorical data once it is processed using an `OrdinalEncoder`\n",
    "- `GaussianNB` assumes the numerical features have a Gaussian distribution\n",
    "- `BernoulliNB` binary data\n",
    "- `MultinomialNB` count data, e.g. word counts"
   ]
  },
  {
   "cell_type": "code",
   "execution_count": 1,
   "metadata": {},
   "outputs": [],
   "source": [
    "import pandas as pd\n",
    "from sklearn.naive_bayes import MultinomialNB, GaussianNB, BernoulliNB, CategoricalNB\n",
    "from sklearn.metrics import confusion_matrix \n",
    "from sklearn.preprocessing import OneHotEncoder"
   ]
  },
  {
   "cell_type": "code",
   "execution_count": 3,
   "metadata": {
    "scrolled": true
   },
   "outputs": [
    {
     "data": {
      "text/html": [
       "<div>\n",
       "<style scoped>\n",
       "    .dataframe tbody tr th:only-of-type {\n",
       "        vertical-align: middle;\n",
       "    }\n",
       "\n",
       "    .dataframe tbody tr th {\n",
       "        vertical-align: top;\n",
       "    }\n",
       "\n",
       "    .dataframe thead th {\n",
       "        text-align: right;\n",
       "    }\n",
       "</style>\n",
       "<table border=\"1\" class=\"dataframe\">\n",
       "  <thead>\n",
       "    <tr style=\"text-align: right;\">\n",
       "      <th></th>\n",
       "      <th>Rain_Recently</th>\n",
       "      <th>Rain_Today</th>\n",
       "      <th>Temp</th>\n",
       "      <th>Wind</th>\n",
       "      <th>Sunshine</th>\n",
       "      <th>Swimming</th>\n",
       "    </tr>\n",
       "  </thead>\n",
       "  <tbody>\n",
       "    <tr>\n",
       "      <th>0</th>\n",
       "      <td>Moderate</td>\n",
       "      <td>Moderate</td>\n",
       "      <td>Warm</td>\n",
       "      <td>Light</td>\n",
       "      <td>Some</td>\n",
       "      <td>Yes</td>\n",
       "    </tr>\n",
       "    <tr>\n",
       "      <th>1</th>\n",
       "      <td>Light</td>\n",
       "      <td>Moderate</td>\n",
       "      <td>Warm</td>\n",
       "      <td>Moderate</td>\n",
       "      <td>None</td>\n",
       "      <td>No</td>\n",
       "    </tr>\n",
       "    <tr>\n",
       "      <th>2</th>\n",
       "      <td>Moderate</td>\n",
       "      <td>Moderate</td>\n",
       "      <td>Cold</td>\n",
       "      <td>Gale</td>\n",
       "      <td>None</td>\n",
       "      <td>No</td>\n",
       "    </tr>\n",
       "    <tr>\n",
       "      <th>3</th>\n",
       "      <td>Moderate</td>\n",
       "      <td>Moderate</td>\n",
       "      <td>Warm</td>\n",
       "      <td>Light</td>\n",
       "      <td>None</td>\n",
       "      <td>Yes</td>\n",
       "    </tr>\n",
       "    <tr>\n",
       "      <th>4</th>\n",
       "      <td>Moderate</td>\n",
       "      <td>Light</td>\n",
       "      <td>Cold</td>\n",
       "      <td>Light</td>\n",
       "      <td>Some</td>\n",
       "      <td>No</td>\n",
       "    </tr>\n",
       "    <tr>\n",
       "      <th>5</th>\n",
       "      <td>Heavy</td>\n",
       "      <td>Light</td>\n",
       "      <td>Cold</td>\n",
       "      <td>Moderate</td>\n",
       "      <td>Some</td>\n",
       "      <td>Yes</td>\n",
       "    </tr>\n",
       "    <tr>\n",
       "      <th>6</th>\n",
       "      <td>Light</td>\n",
       "      <td>Light</td>\n",
       "      <td>Cold</td>\n",
       "      <td>Moderate</td>\n",
       "      <td>Some</td>\n",
       "      <td>No</td>\n",
       "    </tr>\n",
       "    <tr>\n",
       "      <th>7</th>\n",
       "      <td>Moderate</td>\n",
       "      <td>Moderate</td>\n",
       "      <td>Cold</td>\n",
       "      <td>Gale</td>\n",
       "      <td>Some</td>\n",
       "      <td>No</td>\n",
       "    </tr>\n",
       "    <tr>\n",
       "      <th>8</th>\n",
       "      <td>Heavy</td>\n",
       "      <td>Heavy</td>\n",
       "      <td>Warm</td>\n",
       "      <td>Moderate</td>\n",
       "      <td>None</td>\n",
       "      <td>Yes</td>\n",
       "    </tr>\n",
       "    <tr>\n",
       "      <th>9</th>\n",
       "      <td>Light</td>\n",
       "      <td>Light</td>\n",
       "      <td>Cold</td>\n",
       "      <td>Light</td>\n",
       "      <td>Some</td>\n",
       "      <td>No</td>\n",
       "    </tr>\n",
       "  </tbody>\n",
       "</table>\n",
       "</div>"
      ],
      "text/plain": [
       "  Rain_Recently Rain_Today  Temp      Wind Sunshine Swimming\n",
       "0      Moderate   Moderate  Warm     Light     Some      Yes\n",
       "1         Light   Moderate  Warm  Moderate     None       No\n",
       "2      Moderate   Moderate  Cold      Gale     None       No\n",
       "3      Moderate   Moderate  Warm     Light     None      Yes\n",
       "4      Moderate      Light  Cold     Light     Some       No\n",
       "5         Heavy      Light  Cold  Moderate     Some      Yes\n",
       "6         Light      Light  Cold  Moderate     Some       No\n",
       "7      Moderate   Moderate  Cold      Gale     Some       No\n",
       "8         Heavy      Heavy  Warm  Moderate     None      Yes\n",
       "9         Light      Light  Cold     Light     Some       No"
      ]
     },
     "execution_count": 3,
     "metadata": {},
     "output_type": "execute_result"
    }
   ],
   "source": [
    "swim = pd.read_csv('../data/Swimming.csv')\n",
    "swim"
   ]
  },
  {
   "cell_type": "markdown",
   "metadata": {},
   "source": [
    "## Categorical NB"
   ]
  },
  {
   "cell_type": "code",
   "execution_count": 4,
   "metadata": {},
   "outputs": [],
   "source": [
    "from sklearn.preprocessing import OrdinalEncoder"
   ]
  },
  {
   "cell_type": "code",
   "execution_count": 5,
   "metadata": {},
   "outputs": [
    {
     "name": "stdout",
     "output_type": "stream",
     "text": [
      "Index(['Rain_Recently', 'Rain_Today', 'Temp', 'Wind', 'Sunshine'], dtype='object')\n",
      "['Yes' 'No' 'No' 'Yes' 'No' 'Yes' 'No' 'No' 'Yes' 'No']\n"
     ]
    }
   ],
   "source": [
    "y = swim.pop('Swimming').values # Set this as the y (target)\n",
    "print(swim.columns)\n",
    "print(y)"
   ]
  },
  {
   "cell_type": "code",
   "execution_count": 6,
   "metadata": {},
   "outputs": [
    {
     "data": {
      "text/plain": [
       "array([[2., 2., 1., 1., 1.],\n",
       "       [1., 2., 1., 2., 0.],\n",
       "       [2., 2., 0., 0., 0.],\n",
       "       [2., 2., 1., 1., 0.],\n",
       "       [2., 1., 0., 1., 1.],\n",
       "       [0., 1., 0., 2., 1.],\n",
       "       [1., 1., 0., 2., 1.],\n",
       "       [2., 2., 0., 0., 1.],\n",
       "       [0., 0., 1., 2., 0.],\n",
       "       [1., 1., 0., 1., 1.]])"
      ]
     },
     "execution_count": 6,
     "metadata": {},
     "output_type": "execute_result"
    }
   ],
   "source": [
    "ord_encoder = OrdinalEncoder()\n",
    "swimOE = ord_encoder.fit_transform(swim)\n",
    "swimOE"
   ]
  },
  {
   "cell_type": "markdown",
   "metadata": {},
   "source": [
    "What ordering do you get for the ordinal features?   \n",
    "Look up the documentation to see how you would fix this if you want to use the OrdinalEncoder"
   ]
  },
  {
   "cell_type": "code",
   "execution_count": 7,
   "metadata": {},
   "outputs": [
    {
     "name": "stdout",
     "output_type": "stream",
     "text": [
      "Confusion matrix:\n",
      "[[6 0]\n",
      " [0 4]]\n"
     ]
    }
   ],
   "source": [
    "catNB = CategoricalNB(fit_prior=True, alpha=.0001)\n",
    "swim_catNB = catNB.fit(swimOE,y)\n",
    "y_dash = swim_catNB.predict(swimOE)  #predict training data\n",
    "confusion = confusion_matrix(y, y_dash)\n",
    "print(\"Confusion matrix:\\n{}\".format(confusion)) "
   ]
  },
  {
   "cell_type": "code",
   "execution_count": 26,
   "metadata": {},
   "outputs": [
    {
     "data": {
      "text/html": [
       "<div>\n",
       "<style scoped>\n",
       "    .dataframe tbody tr th:only-of-type {\n",
       "        vertical-align: middle;\n",
       "    }\n",
       "\n",
       "    .dataframe tbody tr th {\n",
       "        vertical-align: top;\n",
       "    }\n",
       "\n",
       "    .dataframe thead th {\n",
       "        text-align: right;\n",
       "    }\n",
       "</style>\n",
       "<table border=\"1\" class=\"dataframe\">\n",
       "  <thead>\n",
       "    <tr style=\"text-align: right;\">\n",
       "      <th></th>\n",
       "      <th>Rain_Recently</th>\n",
       "      <th>Rain_Today</th>\n",
       "      <th>Temp</th>\n",
       "      <th>Wind</th>\n",
       "      <th>Sunshine</th>\n",
       "    </tr>\n",
       "  </thead>\n",
       "  <tbody>\n",
       "    <tr>\n",
       "      <th>0</th>\n",
       "      <td>Moderate</td>\n",
       "      <td>Moderate</td>\n",
       "      <td>Warm</td>\n",
       "      <td>Light</td>\n",
       "      <td>Some</td>\n",
       "    </tr>\n",
       "    <tr>\n",
       "      <th>1</th>\n",
       "      <td>Moderate</td>\n",
       "      <td>Moderate</td>\n",
       "      <td>Cold</td>\n",
       "      <td>Moderate</td>\n",
       "      <td>Some</td>\n",
       "    </tr>\n",
       "    <tr>\n",
       "      <th>2</th>\n",
       "      <td>Moderate</td>\n",
       "      <td>Light</td>\n",
       "      <td>Warm</td>\n",
       "      <td>Light</td>\n",
       "      <td>None</td>\n",
       "    </tr>\n",
       "  </tbody>\n",
       "</table>\n",
       "</div>"
      ],
      "text/plain": [
       "  Rain_Recently Rain_Today  Temp      Wind Sunshine\n",
       "0      Moderate   Moderate  Warm     Light     Some\n",
       "1      Moderate   Moderate  Cold  Moderate     Some\n",
       "2      Moderate      Light  Warm     Light     None"
      ]
     },
     "execution_count": 26,
     "metadata": {},
     "output_type": "execute_result"
    }
   ],
   "source": [
    "# Three query examples, two from the lecture and one from the training data.\n",
    "\n",
    "squery = pd.DataFrame([[\"Moderate\",\"Moderate\",\"Warm\",\"Light\",\"Some\"],\n",
    "                       [\"Moderate\",\"Moderate\",\"Cold\",\"Moderate\",\"Some\"],\n",
    "                       [\"Moderate\",\"Light\",\"Warm\",\"Light\",\"None\"]\n",
    "                      ], columns=swim.columns)\n",
    "\n",
    "squery"
   ]
  },
  {
   "cell_type": "code",
   "execution_count": 9,
   "metadata": {},
   "outputs": [
    {
     "data": {
      "text/plain": [
       "(array([[2., 2., 1., 1., 1.],\n",
       "        [2., 2., 0., 2., 1.],\n",
       "        [2., 1., 1., 1., 0.]]),\n",
       " (3, 5))"
      ]
     },
     "execution_count": 9,
     "metadata": {},
     "output_type": "execute_result"
    }
   ],
   "source": [
    "X_query = ord_encoder.transform(squery)\n",
    "X_query, X_query.shape"
   ]
  },
  {
   "cell_type": "code",
   "execution_count": 10,
   "metadata": {},
   "outputs": [
    {
     "data": {
      "text/plain": [
       "array(['Yes', 'No', 'Yes'], dtype='<U3')"
      ]
     },
     "execution_count": 10,
     "metadata": {},
     "output_type": "execute_result"
    }
   ],
   "source": [
    "y_query = swim_catNB.predict(X_query)\n",
    "y_query"
   ]
  },
  {
   "cell_type": "code",
   "execution_count": 11,
   "metadata": {},
   "outputs": [
    {
     "data": {
      "text/plain": [
       "array([[0.228592  , 0.771408  ],\n",
       "       [0.81632203, 0.18367797],\n",
       "       [0.22858759, 0.77141241]])"
      ]
     },
     "execution_count": 11,
     "metadata": {},
     "output_type": "execute_result"
    }
   ],
   "source": [
    "q_probs = swim_catNB.predict_proba(X_query)\n",
    "q_probs"
   ]
  },
  {
   "cell_type": "code",
   "execution_count": 12,
   "metadata": {},
   "outputs": [
    {
     "data": {
      "text/plain": [
       "{'alpha': 0.0001, 'class_prior': None, 'fit_prior': True}"
      ]
     },
     "execution_count": 12,
     "metadata": {},
     "output_type": "execute_result"
    }
   ],
   "source": [
    "swim_catNB.get_params()"
   ]
  },
  {
   "cell_type": "markdown",
   "metadata": {},
   "source": [
    "### One-Hot-Encode the training data\n",
    "Here we use one-hot encoding to convert to the Swimming dataset to a numeric format.   \n",
    "This converts the data to a binary format so it is valid to use `BernoulliNB` and possibly `MultinormialNB` - `GaussianNB` not so much. "
   ]
  },
  {
   "cell_type": "code",
   "execution_count": 13,
   "metadata": {},
   "outputs": [
    {
     "data": {
      "text/plain": [
       "array([[0., 0., 1., 0., 0., 1., 0., 1., 0., 1., 0., 0., 1.],\n",
       "       [0., 1., 0., 0., 0., 1., 0., 1., 0., 0., 1., 1., 0.],\n",
       "       [0., 0., 1., 0., 0., 1., 1., 0., 1., 0., 0., 1., 0.],\n",
       "       [0., 0., 1., 0., 0., 1., 0., 1., 0., 1., 0., 1., 0.],\n",
       "       [0., 0., 1., 0., 1., 0., 1., 0., 0., 1., 0., 0., 1.],\n",
       "       [1., 0., 0., 0., 1., 0., 1., 0., 0., 0., 1., 0., 1.],\n",
       "       [0., 1., 0., 0., 1., 0., 1., 0., 0., 0., 1., 0., 1.],\n",
       "       [0., 0., 1., 0., 0., 1., 1., 0., 1., 0., 0., 0., 1.],\n",
       "       [1., 0., 0., 1., 0., 0., 0., 1., 0., 0., 1., 1., 0.],\n",
       "       [0., 1., 0., 0., 1., 0., 1., 0., 0., 1., 0., 0., 1.]])"
      ]
     },
     "execution_count": 13,
     "metadata": {},
     "output_type": "execute_result"
    }
   ],
   "source": [
    "swim = pd.read_csv('../data/Swimming.csv')\n",
    "y = swim.pop('Swimming').values # Set this as the y (target)\n",
    "\n",
    "\n",
    "onehot_encoder = OneHotEncoder(sparse=False)\n",
    "swimOH = onehot_encoder.fit_transform(swim)\n",
    "swimOH"
   ]
  },
  {
   "cell_type": "code",
   "execution_count": 14,
   "metadata": {},
   "outputs": [
    {
     "data": {
      "text/plain": [
       "array(['Rain_Recently_Heavy', 'Rain_Recently_Light',\n",
       "       'Rain_Recently_Moderate', 'Rain_Today_Heavy', 'Rain_Today_Light',\n",
       "       'Rain_Today_Moderate', 'Temp_Cold', 'Temp_Warm', 'Wind_Gale',\n",
       "       'Wind_Light', 'Wind_Moderate', 'Sunshine_None', 'Sunshine_Some'],\n",
       "      dtype=object)"
      ]
     },
     "execution_count": 14,
     "metadata": {},
     "output_type": "execute_result"
    }
   ],
   "source": [
    "onehot_encoder.get_feature_names(swim.columns)"
   ]
  },
  {
   "cell_type": "code",
   "execution_count": 15,
   "metadata": {},
   "outputs": [
    {
     "name": "stdout",
     "output_type": "stream",
     "text": [
      "Confusion matrix:\n",
      "[[6 0]\n",
      " [0 4]]\n"
     ]
    }
   ],
   "source": [
    "gnb = GaussianNB()\n",
    "swim_numNB = gnb.fit(swimOH,y)\n",
    "y_dash = swim_numNB.predict(swimOH)\n",
    "confusion = confusion_matrix(y, y_dash)\n",
    "print(\"Confusion matrix:\\n{}\".format(confusion)) "
   ]
  },
  {
   "cell_type": "code",
   "execution_count": 16,
   "metadata": {},
   "outputs": [
    {
     "name": "stdout",
     "output_type": "stream",
     "text": [
      "Confusion matrix:\n",
      "[[6 0]\n",
      " [1 3]]\n"
     ]
    }
   ],
   "source": [
    "mnb = MultinomialNB()\n",
    "swim_numNB = mnb.fit(swimOH,y)\n",
    "y_dash = swim_numNB.predict(swimOH)\n",
    "confusion = confusion_matrix(y, y_dash)\n",
    "print(\"Confusion matrix:\\n{}\".format(confusion)) "
   ]
  },
  {
   "cell_type": "code",
   "execution_count": 17,
   "metadata": {},
   "outputs": [
    {
     "name": "stdout",
     "output_type": "stream",
     "text": [
      "Confusion matrix:\n",
      "[[5 1]\n",
      " [1 3]]\n"
     ]
    }
   ],
   "source": [
    "bnb = BernoulliNB()\n",
    "swim_numNB = bnb.fit(swimOH,y)\n",
    "y_dash = swim_numNB.predict(swimOH)\n",
    "confusion = confusion_matrix(y, y_dash)\n",
    "print(\"Confusion matrix:\\n{}\".format(confusion)) "
   ]
  },
  {
   "cell_type": "code",
   "execution_count": 18,
   "metadata": {},
   "outputs": [
    {
     "data": {
      "text/plain": [
       "array(['No', 'Yes'], dtype='<U3')"
      ]
     },
     "execution_count": 18,
     "metadata": {},
     "output_type": "execute_result"
    }
   ],
   "source": [
    "swim_numNB.classes_"
   ]
  },
  {
   "cell_type": "code",
   "execution_count": 19,
   "metadata": {},
   "outputs": [],
   "source": [
    "# Three query examples, two from the lecture and one from the training data.\n",
    "\n",
    "squery = pd.DataFrame([[\"Moderate\",\"Moderate\",\"Warm\",\"Light\",\"Some\"],\n",
    "                       [\"Moderate\",\"Moderate\",\"Cold\",\"Moderate\",\"Some\"],\n",
    "                       [\"Moderate\",\"Light\",\"Warm\",\"Light\",\"None\"]\n",
    "                      ], columns=swim.columns)"
   ]
  },
  {
   "cell_type": "code",
   "execution_count": 20,
   "metadata": {},
   "outputs": [
    {
     "data": {
      "text/plain": [
       "(array([[0., 0., 1., 0., 0., 1., 0., 1., 0., 1., 0., 0., 1.],\n",
       "        [0., 0., 1., 0., 0., 1., 1., 0., 0., 0., 1., 0., 1.],\n",
       "        [0., 0., 1., 0., 1., 0., 0., 1., 0., 1., 0., 1., 0.]]),\n",
       " (3, 13))"
      ]
     },
     "execution_count": 20,
     "metadata": {},
     "output_type": "execute_result"
    }
   ],
   "source": [
    "X_query = onehot_encoder.transform(squery)\n",
    "X_query, X_query.shape"
   ]
  },
  {
   "cell_type": "code",
   "execution_count": 21,
   "metadata": {},
   "outputs": [
    {
     "data": {
      "text/plain": [
       "array(['Yes', 'No', 'Yes'], dtype='<U3')"
      ]
     },
     "execution_count": 21,
     "metadata": {},
     "output_type": "execute_result"
    }
   ],
   "source": [
    "y_query = swim_numNB.predict(X_query)\n",
    "y_query"
   ]
  },
  {
   "cell_type": "code",
   "execution_count": 22,
   "metadata": {},
   "outputs": [
    {
     "data": {
      "text/plain": [
       "array([[0.19324128, 0.80675872],\n",
       "       [0.89608238, 0.10391762],\n",
       "       [0.14709254, 0.85290746]])"
      ]
     },
     "execution_count": 22,
     "metadata": {},
     "output_type": "execute_result"
    }
   ],
   "source": [
    "q_probs = swim_numNB.predict_proba(X_query)\n",
    "q_probs"
   ]
  },
  {
   "cell_type": "markdown",
   "metadata": {},
   "source": [
    "## Gaussian Approximations\n",
    "Gaussian Naive Bayes approximates numerical features using a Normal distribution.  \n",
    "Here we look at the distributions of the Iris features to see if this looks reasonable. "
   ]
  },
  {
   "cell_type": "code",
   "execution_count": 24,
   "metadata": {},
   "outputs": [],
   "source": [
    "import seaborn as sns\n",
    "import matplotlib.pyplot as plt\n",
    "from sklearn.datasets import load_iris\n",
    "iris = load_iris()"
   ]
  },
  {
   "cell_type": "code",
   "execution_count": 25,
   "metadata": {},
   "outputs": [
    {
     "data": {
      "text/plain": [
       "Text(0, 0.5, 'Probability')"
      ]
     },
     "execution_count": 25,
     "metadata": {},
     "output_type": "execute_result"
    },
    {
     "data": {
      "image/png": "[encoded data removed]",
      "text/plain": [
       "<Figure size 432x288 with 1 Axes>"
      ]
     },
     "metadata": {
      "needs_background": "light"
     },
     "output_type": "display_data"
    }
   ],
   "source": [
    "findex = 2 # any value in [0,1,2,3] - the feature index\n",
    "c1 = 2     # any value in [0,1,2]  - the classes\n",
    "c2 = 0\n",
    "\n",
    "sns.histplot(iris.data[iris.target == c1][:,findex], label=iris.target_names[c1],\n",
    "            kde=True, stat=\"density\", linewidth=0)\n",
    "sns.histplot(iris.data[iris.target == c2][:,findex], label=iris.target_names[c2],\n",
    "             color = 'orange', kde=True, stat=\"density\", linewidth=0)\n",
    " \n",
    "plt.legend();\n",
    "plt.xlabel(iris.feature_names[findex])\n",
    "plt.ylabel('Probability')"
   ]
  },
  {
   "cell_type": "code",
   "execution_count": null,
   "metadata": {},
   "outputs": [],
   "source": []
  },
  {
   "cell_type": "code",
   "execution_count": null,
   "metadata": {},
   "outputs": [],
   "source": []
  }
 ],
 "metadata": {
  "kernelspec": {
   "display_name": "Python 3",
   "language": "python",
   "name": "python3"
  },
  "language_info": {
   "codemirror_mode": {
    "name": "ipython",
    "version": 3
   },
   "file_extension": ".py",
   "mimetype": "text/x-python",
   "name": "python",
   "nbconvert_exporter": "python",
   "pygments_lexer": "ipython3",
   "version": "3.7.6"
  }
 },
 "nbformat": 4,
 "nbformat_minor": 2
}
