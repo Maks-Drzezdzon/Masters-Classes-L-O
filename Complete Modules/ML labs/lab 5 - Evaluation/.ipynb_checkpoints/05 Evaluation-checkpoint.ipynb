{
 "cells": [
  {
   "cell_type": "markdown",
   "metadata": {},
   "source": [
    "# Evaluation"
   ]
  },
  {
   "cell_type": "code",
   "execution_count": 1,
   "metadata": {},
   "outputs": [],
   "source": [
    "import pandas as pd\n",
    "from sklearn.naive_bayes import MultinomialNB, GaussianNB, BernoulliNB\n",
    "from sklearn.neighbors import KNeighborsClassifier\n",
    "from sklearn.tree import DecisionTreeClassifier\n",
    "from sklearn.preprocessing import StandardScaler\n",
    "from sklearn.model_selection import train_test_split\n",
    "from sklearn.metrics import classification_report\n",
    "from sklearn.metrics import confusion_matrix, accuracy_score"
   ]
  },
  {
   "cell_type": "code",
   "execution_count": 2,
   "metadata": {
    "scrolled": true
   },
   "outputs": [
    {
     "data": {
      "text/html": [
       "<div>\n",
       "<style scoped>\n",
       "    .dataframe tbody tr th:only-of-type {\n",
       "        vertical-align: middle;\n",
       "    }\n",
       "\n",
       "    .dataframe tbody tr th {\n",
       "        vertical-align: top;\n",
       "    }\n",
       "\n",
       "    .dataframe thead th {\n",
       "        text-align: right;\n",
       "    }\n",
       "</style>\n",
       "<table border=\"1\" class=\"dataframe\">\n",
       "  <thead>\n",
       "    <tr style=\"text-align: right;\">\n",
       "      <th></th>\n",
       "      <th>hotelId</th>\n",
       "      <th>aveHelpfulnessRatioUser</th>\n",
       "      <th>stdevHelpfulnessRatioUser</th>\n",
       "      <th>pcReviewsExceedMinHelpfulnessSupport</th>\n",
       "      <th>numReviewsUser</th>\n",
       "      <th>numReviewsHotel</th>\n",
       "      <th>ratingUser</th>\n",
       "      <th>numberSubRatingsUser</th>\n",
       "      <th>subRatingMeanUser</th>\n",
       "      <th>subRatingStdevUser</th>\n",
       "      <th>...</th>\n",
       "      <th>completeness_2</th>\n",
       "      <th>completeness_3</th>\n",
       "      <th>numberTermsEntry</th>\n",
       "      <th>percentageAlphaCharsEntry</th>\n",
       "      <th>fractionUpperCaseCharsEntry</th>\n",
       "      <th>fractionYouVsIEntry</th>\n",
       "      <th>numberTermsSummaryQuote</th>\n",
       "      <th>percentageAlphaCharsSummaryQuote</th>\n",
       "      <th>fractionUpperCaseCharsSummaryQuote</th>\n",
       "      <th>reviewHelpfulness</th>\n",
       "    </tr>\n",
       "  </thead>\n",
       "  <tbody>\n",
       "    <tr>\n",
       "      <th>0</th>\n",
       "      <td>17420</td>\n",
       "      <td>1.000000</td>\n",
       "      <td>0.000000</td>\n",
       "      <td>0.666667</td>\n",
       "      <td>3</td>\n",
       "      <td>16</td>\n",
       "      <td>5</td>\n",
       "      <td>4</td>\n",
       "      <td>4.000000</td>\n",
       "      <td>0.000000</td>\n",
       "      <td>...</td>\n",
       "      <td>0</td>\n",
       "      <td>1</td>\n",
       "      <td>182</td>\n",
       "      <td>0.788474</td>\n",
       "      <td>0.025703</td>\n",
       "      <td>0.500000</td>\n",
       "      <td>6</td>\n",
       "      <td>0.815789</td>\n",
       "      <td>0.096774</td>\n",
       "      <td>1</td>\n",
       "    </tr>\n",
       "    <tr>\n",
       "      <th>1</th>\n",
       "      <td>1397</td>\n",
       "      <td>0.772487</td>\n",
       "      <td>0.377321</td>\n",
       "      <td>0.500000</td>\n",
       "      <td>12</td>\n",
       "      <td>233</td>\n",
       "      <td>5</td>\n",
       "      <td>0</td>\n",
       "      <td>0.000000</td>\n",
       "      <td>0.000000</td>\n",
       "      <td>...</td>\n",
       "      <td>0</td>\n",
       "      <td>0</td>\n",
       "      <td>158</td>\n",
       "      <td>0.791888</td>\n",
       "      <td>0.012594</td>\n",
       "      <td>0.500000</td>\n",
       "      <td>1</td>\n",
       "      <td>1.000000</td>\n",
       "      <td>0.083333</td>\n",
       "      <td>1</td>\n",
       "    </tr>\n",
       "    <tr>\n",
       "      <th>2</th>\n",
       "      <td>1348</td>\n",
       "      <td>0.715473</td>\n",
       "      <td>0.300437</td>\n",
       "      <td>0.833333</td>\n",
       "      <td>12</td>\n",
       "      <td>302</td>\n",
       "      <td>4</td>\n",
       "      <td>7</td>\n",
       "      <td>3.714286</td>\n",
       "      <td>0.755929</td>\n",
       "      <td>...</td>\n",
       "      <td>0</td>\n",
       "      <td>3</td>\n",
       "      <td>59</td>\n",
       "      <td>0.799639</td>\n",
       "      <td>0.024831</td>\n",
       "      <td>0.333333</td>\n",
       "      <td>4</td>\n",
       "      <td>0.828571</td>\n",
       "      <td>0.034483</td>\n",
       "      <td>0</td>\n",
       "    </tr>\n",
       "    <tr>\n",
       "      <th>3</th>\n",
       "      <td>5940</td>\n",
       "      <td>0.521250</td>\n",
       "      <td>0.481675</td>\n",
       "      <td>0.222222</td>\n",
       "      <td>36</td>\n",
       "      <td>6</td>\n",
       "      <td>1</td>\n",
       "      <td>4</td>\n",
       "      <td>1.000000</td>\n",
       "      <td>0.000000</td>\n",
       "      <td>...</td>\n",
       "      <td>0</td>\n",
       "      <td>0</td>\n",
       "      <td>95</td>\n",
       "      <td>0.782212</td>\n",
       "      <td>0.029155</td>\n",
       "      <td>0.500000</td>\n",
       "      <td>2</td>\n",
       "      <td>0.800000</td>\n",
       "      <td>0.062500</td>\n",
       "      <td>0</td>\n",
       "    </tr>\n",
       "    <tr>\n",
       "      <th>4</th>\n",
       "      <td>38</td>\n",
       "      <td>0.603175</td>\n",
       "      <td>0.246926</td>\n",
       "      <td>1.000000</td>\n",
       "      <td>2</td>\n",
       "      <td>271</td>\n",
       "      <td>3</td>\n",
       "      <td>0</td>\n",
       "      <td>0.000000</td>\n",
       "      <td>0.000000</td>\n",
       "      <td>...</td>\n",
       "      <td>0</td>\n",
       "      <td>0</td>\n",
       "      <td>43</td>\n",
       "      <td>0.805128</td>\n",
       "      <td>0.028662</td>\n",
       "      <td>0.000000</td>\n",
       "      <td>1</td>\n",
       "      <td>1.000000</td>\n",
       "      <td>0.142857</td>\n",
       "      <td>0</td>\n",
       "    </tr>\n",
       "  </tbody>\n",
       "</table>\n",
       "<p>5 rows × 25 columns</p>\n",
       "</div>"
      ],
      "text/plain": [
       "   hotelId  aveHelpfulnessRatioUser  stdevHelpfulnessRatioUser  \\\n",
       "0    17420                 1.000000                   0.000000   \n",
       "1     1397                 0.772487                   0.377321   \n",
       "2     1348                 0.715473                   0.300437   \n",
       "3     5940                 0.521250                   0.481675   \n",
       "4       38                 0.603175                   0.246926   \n",
       "\n",
       "   pcReviewsExceedMinHelpfulnessSupport  numReviewsUser  numReviewsHotel  \\\n",
       "0                              0.666667               3               16   \n",
       "1                              0.500000              12              233   \n",
       "2                              0.833333              12              302   \n",
       "3                              0.222222              36                6   \n",
       "4                              1.000000               2              271   \n",
       "\n",
       "   ratingUser  numberSubRatingsUser  subRatingMeanUser  subRatingStdevUser  \\\n",
       "0           5                     4           4.000000            0.000000   \n",
       "1           5                     0           0.000000            0.000000   \n",
       "2           4                     7           3.714286            0.755929   \n",
       "3           1                     4           1.000000            0.000000   \n",
       "4           3                     0           0.000000            0.000000   \n",
       "\n",
       "   ...  completeness_2  completeness_3  numberTermsEntry  \\\n",
       "0  ...               0               1               182   \n",
       "1  ...               0               0               158   \n",
       "2  ...               0               3                59   \n",
       "3  ...               0               0                95   \n",
       "4  ...               0               0                43   \n",
       "\n",
       "   percentageAlphaCharsEntry  fractionUpperCaseCharsEntry  \\\n",
       "0                   0.788474                     0.025703   \n",
       "1                   0.791888                     0.012594   \n",
       "2                   0.799639                     0.024831   \n",
       "3                   0.782212                     0.029155   \n",
       "4                   0.805128                     0.028662   \n",
       "\n",
       "   fractionYouVsIEntry  numberTermsSummaryQuote  \\\n",
       "0             0.500000                        6   \n",
       "1             0.500000                        1   \n",
       "2             0.333333                        4   \n",
       "3             0.500000                        2   \n",
       "4             0.000000                        1   \n",
       "\n",
       "   percentageAlphaCharsSummaryQuote  fractionUpperCaseCharsSummaryQuote  \\\n",
       "0                          0.815789                            0.096774   \n",
       "1                          1.000000                            0.083333   \n",
       "2                          0.828571                            0.034483   \n",
       "3                          0.800000                            0.062500   \n",
       "4                          1.000000                            0.142857   \n",
       "\n",
       "   reviewHelpfulness  \n",
       "0                  1  \n",
       "1                  1  \n",
       "2                  0  \n",
       "3                  0  \n",
       "4                  0  \n",
       "\n",
       "[5 rows x 25 columns]"
      ]
     },
     "execution_count": 2,
     "metadata": {},
     "output_type": "execute_result"
    }
   ],
   "source": [
    "hotel_rev = pd.read_csv('../data/HotelRevHelpfulness.csv')\n",
    "hotel_rev.head()"
   ]
  },
  {
   "cell_type": "markdown",
   "metadata": {},
   "source": [
    "'reviewHelpfulness' is the class label. `1` is positive and `0` is negative."
   ]
  },
  {
   "cell_type": "code",
   "execution_count": 3,
   "metadata": {},
   "outputs": [
    {
     "name": "stdout",
     "output_type": "stream",
     "text": [
      "486 Samples\n",
      "308 Positive \n",
      "178 Negative\n"
     ]
    }
   ],
   "source": [
    "n = hotel_rev.shape[0]\n",
    "np = hotel_rev['reviewHelpfulness'].sum()\n",
    "nn = n - np\n",
    "print('{} Samples'.format(n))\n",
    "print('{} Positive \\n{} Negative'.format(np,nn))"
   ]
  },
  {
   "cell_type": "markdown",
   "metadata": {},
   "source": [
    "## Hold Out Validation"
   ]
  },
  {
   "cell_type": "code",
   "execution_count": 4,
   "metadata": {
    "scrolled": true
   },
   "outputs": [
    {
     "name": "stdout",
     "output_type": "stream",
     "text": [
      "X_test shape:  (162, 24)\n"
     ]
    }
   ],
   "source": [
    "y = hotel_rev.pop('reviewHelpfulness').values   #target classes\n",
    "Xraw = hotel_rev.values \n",
    "# normalise the raw data\n",
    "scaler = StandardScaler()\n",
    "X = scaler.fit_transform(Xraw)\n",
    "# split the data\n",
    "X_train, X_test, y_train, y_test = train_test_split(X, y, random_state=0, test_size=1/3)\n",
    "print(\"X_test shape: \",X_test.shape)"
   ]
  },
  {
   "cell_type": "code",
   "execution_count": 5,
   "metadata": {},
   "outputs": [],
   "source": [
    "# train a NB model and predict for test data\n",
    "mnb = GaussianNB()\n",
    "hotel_rev_NB = mnb.fit(X_train, y_train)\n",
    "y_dash = hotel_rev_NB.predict(X_test)"
   ]
  },
  {
   "cell_type": "markdown",
   "metadata": {},
   "source": [
    "## Accuracy & Confusion Matrix\n",
    "With the confusion matrix, rows are actual and columns are predicted.   \n",
    "If 0 is negative and 1 is positive `C(0,0)` is TN and `C(1,1)` is TP.  \n",
    "TN, FP  \n",
    "FN, TP\n"
   ]
  },
  {
   "cell_type": "code",
   "execution_count": 8,
   "metadata": {
    "scrolled": true
   },
   "outputs": [
    {
     "name": "stdout",
     "output_type": "stream",
     "text": [
      "Accuracy: 0.69\n",
      "Confusion matrix:\n",
      "[[42 20]\n",
      " [30 70]]\n"
     ]
    }
   ],
   "source": [
    "acc = accuracy_score(y_test, y_dash)\n",
    "print(\"Accuracy: {0:.2f}\".format(acc)) \n",
    "confusion = confusion_matrix(y_test, y_dash)\n",
    "print(\"Confusion matrix:\\n{}\".format(confusion)) "
   ]
  },
  {
   "cell_type": "code",
   "execution_count": 9,
   "metadata": {},
   "outputs": [
    {
     "name": "stdout",
     "output_type": "stream",
     "text": [
      "Report:\n",
      "              precision    recall  f1-score   support\n",
      "\n",
      " Not Helpful       0.58      0.68      0.63        62\n",
      "     Helpful       0.78      0.70      0.74       100\n",
      "\n",
      "    accuracy                           0.69       162\n",
      "   macro avg       0.68      0.69      0.68       162\n",
      "weighted avg       0.70      0.69      0.69       162\n",
      "\n"
     ]
    }
   ],
   "source": [
    "report = classification_report(y_test, y_dash, target_names = ['Not Helpful','Helpful'])\n",
    "print(\"Report:\\n{}\".format(report)) "
   ]
  },
  {
   "cell_type": "markdown",
   "metadata": {},
   "source": [
    "## Cross Validation\n",
    "`cross_val_score` will run a k-fold cross validation.  \n"
   ]
  },
  {
   "cell_type": "code",
   "execution_count": 26,
   "metadata": {},
   "outputs": [
    {
     "name": "stdout",
     "output_type": "stream",
     "text": [
      "5x CV Accuracy Naive Bayes: 0.65\n"
     ]
    },
    {
     "data": {
      "text/plain": [
       "array([0.55102041, 0.65979381, 0.70103093, 0.63917526, 0.68041237])"
      ]
     },
     "execution_count": 26,
     "metadata": {},
     "output_type": "execute_result"
    }
   ],
   "source": [
    "from sklearn.model_selection import cross_val_score\n",
    "mnb = GaussianNB()\n",
    "scores = cross_val_score(mnb, X, y, cv=5)\n",
    "print(\"5x CV Accuracy Naive Bayes: {0:.2f}\".format(scores.mean()))  \n",
    "scores   # print scores for each fold"
   ]
  },
  {
   "cell_type": "code",
   "execution_count": 24,
   "metadata": {},
   "outputs": [
    {
     "name": "stdout",
     "output_type": "stream",
     "text": [
      "5x CV Accuracy kNNs: 0.66\n"
     ]
    },
    {
     "data": {
      "text/plain": [
       "array([0.58163265, 0.69072165, 0.71134021, 0.67010309, 0.62886598])"
      ]
     },
     "execution_count": 24,
     "metadata": {},
     "output_type": "execute_result"
    }
   ],
   "source": [
    "kNN = KNeighborsClassifier(n_neighbors=3)  \n",
    "kNN_scores = cross_val_score(kNN, X, y, cv=5)\n",
    "print(\"5x CV Accuracy kNNs: {0:.2f}\".format(kNN_scores.mean())) \n",
    "kNN_scores\n"
   ]
  },
  {
   "cell_type": "code",
   "execution_count": 25,
   "metadata": {},
   "outputs": [
    {
     "name": "stdout",
     "output_type": "stream",
     "text": [
      "5x CV Accuracy Trees: 0.69\n"
     ]
    },
    {
     "data": {
      "text/plain": [
       "array([0.68367347, 0.70103093, 0.73195876, 0.6185567 , 0.72164948])"
      ]
     },
     "execution_count": 25,
     "metadata": {},
     "output_type": "execute_result"
    }
   ],
   "source": [
    "dtree = DecisionTreeClassifier(criterion='entropy')\n",
    "tree_scores = cross_val_score(dtree, X, y, cv=5)\n",
    "print(\"5x CV Accuracy Trees: {0:.2f}\".format(tree_scores.mean())) \n",
    "tree_scores"
   ]
  },
  {
   "cell_type": "markdown",
   "metadata": {},
   "source": [
    "Which classifier is best?"
   ]
  },
  {
   "cell_type": "markdown",
   "metadata": {},
   "source": [
    "## F1 Score\n",
    "A balanced score that measures the harmonic mean between Precision and Recall."
   ]
  },
  {
   "cell_type": "code",
   "execution_count": 28,
   "metadata": {},
   "outputs": [],
   "source": [
    "models = [mnb,kNN,dtree]    \n",
    "folds = 5"
   ]
  },
  {
   "cell_type": "code",
   "execution_count": 29,
   "metadata": {},
   "outputs": [
    {
     "name": "stdout",
     "output_type": "stream",
     "text": [
      "F1 Measure\n"
     ]
    },
    {
     "name": "stderr",
     "output_type": "stream",
     "text": [
      "[Parallel(n_jobs=-1)]: Using backend LokyBackend with 8 concurrent workers.\n",
      "[Parallel(n_jobs=-1)]: Done   2 out of   5 | elapsed:    1.6s remaining:    2.4s\n",
      "[Parallel(n_jobs=-1)]: Done   5 out of   5 | elapsed:    1.6s finished\n",
      "[Parallel(n_jobs=-1)]: Using backend LokyBackend with 8 concurrent workers.\n",
      "[Parallel(n_jobs=-1)]: Done   2 out of   5 | elapsed:    0.1s remaining:    0.1s\n"
     ]
    },
    {
     "name": "stdout",
     "output_type": "stream",
     "text": [
      "5 x CV GaussianNB             0.72\n"
     ]
    },
    {
     "name": "stderr",
     "output_type": "stream",
     "text": [
      "[Parallel(n_jobs=-1)]: Done   5 out of   5 | elapsed:    0.5s finished\n",
      "[Parallel(n_jobs=-1)]: Using backend LokyBackend with 8 concurrent workers.\n",
      "[Parallel(n_jobs=-1)]: Done   2 out of   5 | elapsed:    0.0s remaining:    0.0s\n"
     ]
    },
    {
     "name": "stdout",
     "output_type": "stream",
     "text": [
      "5 x CV KNeighborsClassifier   0.74\n",
      "5 x CV DecisionTreeClassifier 0.76\n"
     ]
    },
    {
     "name": "stderr",
     "output_type": "stream",
     "text": [
      "[Parallel(n_jobs=-1)]: Done   5 out of   5 | elapsed:    0.5s finished\n"
     ]
    }
   ],
   "source": [
    "print('F1 Measure')\n",
    "for m in models:\n",
    "    f1_scores = cross_val_score(m, X, y, cv=folds, scoring = 'f1', n_jobs=-1, verbose = 5)\n",
    "    print(\"{} x CV {:22} {:.2f}\".format(folds, type(m).__name__, f1_scores.mean())) "
   ]
  },
  {
   "cell_type": "markdown",
   "metadata": {},
   "source": [
    "## Precision & Recall"
   ]
  },
  {
   "cell_type": "code",
   "execution_count": 30,
   "metadata": {},
   "outputs": [
    {
     "name": "stdout",
     "output_type": "stream",
     "text": [
      "Precision\n",
      "5 x CV GaussianNB             0.72\n"
     ]
    },
    {
     "name": "stderr",
     "output_type": "stream",
     "text": [
      "[Parallel(n_jobs=-1)]: Using backend LokyBackend with 8 concurrent workers.\n",
      "[Parallel(n_jobs=-1)]: Done   2 out of   5 | elapsed:    0.0s remaining:    0.0s\n",
      "[Parallel(n_jobs=-1)]: Done   5 out of   5 | elapsed:    0.0s finished\n",
      "[Parallel(n_jobs=-1)]: Using backend LokyBackend with 8 concurrent workers.\n",
      "[Parallel(n_jobs=-1)]: Done   2 out of   5 | elapsed:    0.0s remaining:    0.0s\n"
     ]
    },
    {
     "name": "stdout",
     "output_type": "stream",
     "text": [
      "5 x CV KNeighborsClassifier   0.71\n",
      "5 x CV DecisionTreeClassifier 0.75\n"
     ]
    },
    {
     "name": "stderr",
     "output_type": "stream",
     "text": [
      "[Parallel(n_jobs=-1)]: Done   5 out of   5 | elapsed:    0.5s finished\n",
      "[Parallel(n_jobs=-1)]: Using backend LokyBackend with 8 concurrent workers.\n",
      "[Parallel(n_jobs=-1)]: Done   2 out of   5 | elapsed:    0.0s remaining:    0.0s\n",
      "[Parallel(n_jobs=-1)]: Done   5 out of   5 | elapsed:    0.0s finished\n"
     ]
    }
   ],
   "source": [
    "print('Precision')\n",
    "for m in models:\n",
    "    f1_scores = cross_val_score(m, X, y, cv=folds, scoring = 'precision', n_jobs=-1, verbose = 5)\n",
    "    print(\"{} x CV {:22} {:.2f}\".format(folds, type(m).__name__, f1_scores.mean())) "
   ]
  },
  {
   "cell_type": "code",
   "execution_count": 31,
   "metadata": {
    "scrolled": true
   },
   "outputs": [
    {
     "name": "stdout",
     "output_type": "stream",
     "text": [
      "Recall\n",
      "5 x CV GaussianNB             0.72\n",
      "5 x CV KNeighborsClassifier   0.78\n",
      "5 x CV DecisionTreeClassifier 0.77\n"
     ]
    },
    {
     "name": "stderr",
     "output_type": "stream",
     "text": [
      "[Parallel(n_jobs=-1)]: Using backend LokyBackend with 8 concurrent workers.\n",
      "[Parallel(n_jobs=-1)]: Done   2 out of   5 | elapsed:    0.0s remaining:    0.0s\n",
      "[Parallel(n_jobs=-1)]: Done   5 out of   5 | elapsed:    0.0s finished\n",
      "[Parallel(n_jobs=-1)]: Using backend LokyBackend with 8 concurrent workers.\n",
      "[Parallel(n_jobs=-1)]: Done   2 out of   5 | elapsed:    0.0s remaining:    0.0s\n",
      "[Parallel(n_jobs=-1)]: Done   5 out of   5 | elapsed:    0.0s finished\n",
      "[Parallel(n_jobs=-1)]: Using backend LokyBackend with 8 concurrent workers.\n",
      "[Parallel(n_jobs=-1)]: Done   2 out of   5 | elapsed:    0.0s remaining:    0.0s\n",
      "[Parallel(n_jobs=-1)]: Done   5 out of   5 | elapsed:    0.0s finished\n"
     ]
    }
   ],
   "source": [
    "print('Recall')\n",
    "for m in models:\n",
    "    f1_scores = cross_val_score(m, X, y, cv=folds, scoring = 'recall', n_jobs=-1, verbose = 5)\n",
    "    print(\"{} x CV {:22} {:.2f}\".format(folds, type(m).__name__, f1_scores.mean())) "
   ]
  },
  {
   "cell_type": "markdown",
   "metadata": {},
   "source": [
    "Why are Recall figures different from Accuracy?"
   ]
  },
  {
   "cell_type": "markdown",
   "metadata": {},
   "source": [
    "## ROC AUC analysis"
   ]
  },
  {
   "cell_type": "code",
   "execution_count": 32,
   "metadata": {
    "scrolled": true
   },
   "outputs": [
    {
     "name": "stdout",
     "output_type": "stream",
     "text": [
      "ROC Analysis\n",
      "5 x CV GaussianNB             0.70\n",
      "5 x CV KNeighborsClassifier   0.65\n",
      "5 x CV DecisionTreeClassifier 0.67\n"
     ]
    }
   ],
   "source": [
    "folds = 5\n",
    "print('ROC Analysis')\n",
    "for m in models:\n",
    "    roc_scores = cross_val_score(m, X, y, cv=folds, scoring = 'roc_auc', n_jobs=-1)\n",
    "    print(\"{} x CV {:22} {:.2f}\".format(folds, type(m).__name__, roc_scores.mean())) "
   ]
  },
  {
   "cell_type": "markdown",
   "metadata": {},
   "source": [
    "\n",
    "## Calculating TP & FP with cross validation\n",
    "The hold out validation shows that there are high FP and FN rates.   \n",
    "Here we get a cross-validation estimate of these rates.  \n",
    "To do this we have to make a scorer function to get the individual scores. "
   ]
  },
  {
   "cell_type": "code",
   "execution_count": 1,
   "metadata": {},
   "outputs": [
    {
     "ename": "NameError",
     "evalue": "name 'mnb' is not defined",
     "output_type": "error",
     "traceback": [
      "\u001b[0;31m---------------------------------------------------------------------------\u001b[0m",
      "\u001b[0;31mNameError\u001b[0m                                 Traceback (most recent call last)",
      "\u001b[0;32m<ipython-input-1-ed9cdf9e1dd2>\u001b[0m in \u001b[0;36m<module>\u001b[0;34m\u001b[0m\n\u001b[1;32m      8\u001b[0m            'fp' : make_scorer(fp), 'fn' : make_scorer(fn)}\n\u001b[1;32m      9\u001b[0m \u001b[0;34m\u001b[0m\u001b[0m\n\u001b[0;32m---> 10\u001b[0;31m \u001b[0mmodels\u001b[0m \u001b[0;34m=\u001b[0m \u001b[0;34m[\u001b[0m\u001b[0mmnb\u001b[0m\u001b[0;34m,\u001b[0m\u001b[0mkNN\u001b[0m\u001b[0;34m,\u001b[0m\u001b[0mdtree\u001b[0m\u001b[0;34m]\u001b[0m\u001b[0;34m\u001b[0m\u001b[0;34m\u001b[0m\u001b[0m\n\u001b[0m\u001b[1;32m     11\u001b[0m \u001b[0;34m\u001b[0m\u001b[0m\n\u001b[1;32m     12\u001b[0m \u001b[0mfolds\u001b[0m \u001b[0;34m=\u001b[0m \u001b[0;36m5\u001b[0m\u001b[0;34m\u001b[0m\u001b[0;34m\u001b[0m\u001b[0m\n",
      "\u001b[0;31mNameError\u001b[0m: name 'mnb' is not defined"
     ]
    }
   ],
   "source": [
    "from sklearn.model_selection import cross_validate\n",
    "from sklearn.metrics import make_scorer\n",
    "def tp(y_true, y_pred): return confusion_matrix(y_true, y_pred)[1, 1]\n",
    "def tn(y_true, y_pred): return confusion_matrix(y_true, y_pred)[0, 0]\n",
    "def fp(y_true, y_pred): return confusion_matrix(y_true, y_pred)[0, 1]\n",
    "def fn(y_true, y_pred): return confusion_matrix(y_true, y_pred)[1, 0]\n",
    "scoring = {'tp' : make_scorer(tp), 'tn' : make_scorer(tn),\n",
    "           'fp' : make_scorer(fp), 'fn' : make_scorer(fn)}\n",
    "\n",
    "models = [mnb,kNN,dtree]\n",
    "\n",
    "folds = 5\n",
    "v = 0 #  use 1 or 0, try both"
   ]
  },
  {
   "cell_type": "code",
   "execution_count": 42,
   "metadata": {},
   "outputs": [
    {
     "name": "stdout",
     "output_type": "stream",
     "text": [
      "5 x CV GaussianNB             FP: 0.48  TP: 0.72  FN: 0.28  TN: 0.52  \n",
      "5 x CV KNeighborsClassifier   FP: 0.56  TP: 0.78  FN: 0.22  TN: 0.44  \n",
      "5 x CV DecisionTreeClassifier FP: 0.45  TP: 0.74  FN: 0.26  TN: 0.55  \n"
     ]
    }
   ],
   "source": [
    "for m in models:\n",
    "    cv_results = cross_validate(m, X, y, cv= folds, scoring=scoring, return_train_score=False, \n",
    "                                    verbose = v, n_jobs = -1)\n",
    "    fp_rate = cv_results['test_fp'].sum()/(cv_results['test_fp'].sum()+cv_results['test_tn'].sum())\n",
    "    tp_rate = cv_results['test_tp'].sum()/(cv_results['test_tp'].sum()+cv_results['test_fn'].sum())\n",
    "    fn_rate = cv_results['test_fn'].sum()/(cv_results['test_fn'].sum()+cv_results['test_tp'].sum())\n",
    "    tn_rate = cv_results['test_tn'].sum()/(cv_results['test_tn'].sum()+cv_results['test_fp'].sum())\n",
    "  \n",
    "    print(\"{} x CV {:22} FP: {:.2f}  TP: {:.2f}  FN: {:.2f}  TN: {:.2f}  \".format(folds, type(m).__name__, fp_rate, tp_rate, fn_rate, tn_rate)) \n"
   ]
  },
  {
   "cell_type": "markdown",
   "metadata": {},
   "source": [
    "See how the different classifiers perform across the different measures"
   ]
  },
  {
   "cell_type": "markdown",
   "metadata": {},
   "source": [
    "\n",
    "\n",
    "\n",
    "## Plot the confusion matrix"
   ]
  },
  {
   "cell_type": "code",
   "execution_count": 45,
   "metadata": {},
   "outputs": [
    {
     "name": "stdout",
     "output_type": "stream",
     "text": [
      "Confusion matrix, without normalization\n",
      "[[34 28]\n",
      " [21 79]]\n"
     ]
    },
    {
     "data": {
      "image/png": "[encoded data removed]",
      "text/plain": [
       "<Figure size 432x288 with 2 Axes>"
      ]
     },
     "metadata": {
      "needs_background": "light"
     },
     "output_type": "display_data"
    }
   ],
   "source": [
    "import numpy as np\n",
    "import matplotlib.pyplot as plt\n",
    "from sklearn.utils.multiclass import unique_labels\n",
    "%matplotlib inline\n",
    "\n",
    "def plot_confusion_matrix(y_true, y_pred, classes,\n",
    "                          normalize=False,\n",
    "                          title=None,\n",
    "                          cmap=plt.cm.Blues):\n",
    "    \"\"\"\n",
    "    This function prints and plots the confusion matrix.\n",
    "    Normalization can be applied by setting `normalize=True`.\n",
    "    \"\"\"\n",
    "    if not title:\n",
    "        if normalize:\n",
    "            title = 'Normalized confusion matrix'\n",
    "        else:\n",
    "            title = 'Confusion matrix, without normalization'\n",
    "\n",
    "    # Compute confusion matrix\n",
    "    cm = confusion_matrix(y_true, y_pred)\n",
    "    # Only use the labels that appear in the data\n",
    "    #classes = classes[unique_labels(y_true, y_pred)]\n",
    "    if normalize:\n",
    "        cm = cm.astype('float') / cm.sum(axis=1)[:, np.newaxis]\n",
    "        print(\"Normalized confusion matrix\")\n",
    "    else:\n",
    "        print('Confusion matrix, without normalization')\n",
    "\n",
    "    print(cm)\n",
    "\n",
    "    fig, ax = plt.subplots()\n",
    "    im = ax.imshow(cm, interpolation='nearest', cmap=cmap)\n",
    "    ax.figure.colorbar(im, ax=ax)\n",
    "    # We want to show all ticks...\n",
    "    ax.set(xticks=np.arange(cm.shape[1]),\n",
    "           yticks=np.arange(cm.shape[0]),\n",
    "           # ... and label them with the respective list entries\n",
    "           xticklabels=classes, yticklabels=classes,\n",
    "           title=title,\n",
    "           ylabel='True label',\n",
    "           xlabel='Predicted label')\n",
    "\n",
    "    # Rotate the tick labels and set their alignment.\n",
    "    plt.setp(ax.get_xticklabels(), rotation=45, ha=\"right\",\n",
    "             rotation_mode=\"anchor\")\n",
    "\n",
    "    # Loop over data dimensions and create text annotations.\n",
    "    fmt = '.2f' if normalize else 'd'\n",
    "    thresh = cm.max() / 2.\n",
    "    for i in range(cm.shape[0]):\n",
    "        for j in range(cm.shape[1]):\n",
    "            ax.text(j, i, format(cm[i, j], fmt),\n",
    "                    ha=\"center\", va=\"center\",\n",
    "                    color=\"white\" if cm[i, j] > thresh else \"black\")\n",
    "    fig.tight_layout()\n",
    "    return ax\n",
    "\n",
    "\n",
    "np.set_printoptions(precision=2)\n",
    "\n",
    "# Plot non-normalized confusion matrix\n",
    "plot_confusion_matrix(y_test, y_dash, classes=['Not Helpful','Helpful'],\n",
    "                      title='Confusion matrix, without normalization')\n",
    "\n",
    "# Plot normalized confusion matrix\n",
    "plot_confusion_matrix(y_test, y_dash, classes=['Not Helpful','Helpful'], normalize=True,\n",
    "                      title='Normalized confusion matrix')\n",
    "\n",
    "plt.show()"
   ]
  },
  {
   "cell_type": "code",
   "execution_count": null,
   "metadata": {},
   "outputs": [],
   "source": []
  }
 ],
 "metadata": {
  "kernelspec": {
   "display_name": "Python 3",
   "language": "python",
   "name": "python3"
  },
  "language_info": {
   "codemirror_mode": {
    "name": "ipython",
    "version": 3
   },
   "file_extension": ".py",
   "mimetype": "text/x-python",
   "name": "python",
   "nbconvert_exporter": "python",
   "pygments_lexer": "ipython3",
   "version": "3.7.6"
  }
 },
 "nbformat": 4,
 "nbformat_minor": 2
}
