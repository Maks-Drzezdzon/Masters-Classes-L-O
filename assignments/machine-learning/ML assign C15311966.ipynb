{
 "cells": [
  {
   "cell_type": "code",
   "execution_count": 1,
   "metadata": {},
   "outputs": [],
   "source": [
    "# Load libs\n",
    "import sklearn\n",
    "import pandas as pd\n",
    "from sklearn.model_selection import train_test_split\n",
    "from sklearn import svm\n",
    "from sklearn import metrics"
   ]
  },
  {
   "cell_type": "code",
   "execution_count": 87,
   "metadata": {},
   "outputs": [
    {
     "name": "stdout",
     "output_type": "stream",
     "text": [
      "Data load complete\n"
     ]
    }
   ],
   "source": [
    "# load data for train split instead\n",
    "train_FNC = pd.read_csv(  '../../../../mlsp-2014-mri/Train/train_FNC.csv', delimiter=',')\n",
    "train_SBM = pd.read_csv(  '../../../../mlsp-2014-mri/Train/train_SBM.csv', delimiter=',')\n",
    "train_labels = pd.read_csv(  '../../../../mlsp-2014-mri/Train/train_labels.csv', delimiter=',')\n",
    "\n",
    "test_FNC = pd.read_csv(  '../../../../mlsp-2014-mri/Test/test_FNC.csv', delimiter=',')\n",
    "test_SBM = pd.read_csv(  '../../../../mlsp-2014-mri/Test/test_SBM.csv', delimiter=',')\n",
    "print('Data load complete')"
   ]
  },
  {
   "cell_type": "code",
   "execution_count": 52,
   "metadata": {},
   "outputs": [
    {
     "name": "stdout",
     "output_type": "stream",
     "text": [
      "ready\n"
     ]
    }
   ],
   "source": [
    "# load data for submition\n",
    "submition_csv = pd.read_csv(  '../../../../mlsp-2014-mri/submission_example.csv', delimiter=',')\n",
    "print('ready')"
   ]
  },
  {
   "cell_type": "code",
   "execution_count": 90,
   "metadata": {},
   "outputs": [
    {
     "name": "stdout",
     "output_type": "stream",
     "text": [
      "done\n"
     ]
    }
   ],
   "source": [
    "# Merge data\n",
    "# Train data\n",
    "data = pd.merge(train_FNC, train_SBM)\n",
    "data_2 = pd.merge(data, train_labels)\n",
    "data_2.to_csv('amalgamated_train_data.csv', index=False)\n",
    "train_data = pd.read_csv('../../../../mlsp-2014-mri/assign_data/amalgamated_train_data.csv', delimiter=',')\n",
    "\n",
    "# Test data\n",
    "test_data = pd.merge(test_FNC, test_SBM)\n",
    "test_data.to_csv('amalgamated_test_data.csv', index=False)\n",
    "print('done')\n",
    "# had to remove index in R because python apparently cant do that \n",
    "# R code below \n",
    "# data = read.csv(\"mlsp-2014-mri/test.csv\", as.is=T, header=T, sep=\",\")\n",
    "# write.csv(data[,-1], 'mlsp-2014-mri/assign_data/amalgamated_train_data.csv', row.names = F)"
   ]
  },
  {
   "cell_type": "code",
   "execution_count": 127,
   "metadata": {},
   "outputs": [
    {
     "name": "stdout",
     "output_type": "stream",
     "text": [
      "Data load complete\n"
     ]
    }
   ],
   "source": [
    "#####################\n",
    "# for testing start #\n",
    "#####################\n",
    "\n",
    "# load data\n",
    "train_data = pd.read_csv('../../../../mlsp-2014-mri/assign_data/amalgamated_train_data.csv', delimiter=',', index_col=False)\n",
    "test_data = pd.read_csv('../../../../mlsp-2014-mri/assign_data/amalgamated_test_data.csv', delimiter=',', index_col=False)\n",
    "# convert test data to df from numpy array\n",
    "test_data_df = pd.DataFrame(test_data)\n",
    "print('Data load complete')\n",
    "\n",
    "# Prepare values for training data\n",
    "labels = train_data.pop('Class').values\n",
    "data = train_data.values\n"
   ]
  },
  {
   "cell_type": "code",
   "execution_count": 136,
   "metadata": {},
   "outputs": [
    {
     "name": "stdout",
     "output_type": "stream",
     "text": [
      "Model Evaluation\n",
      "Model Accuracy: 0.769\n",
      "Model Precision: 0.688\n",
      "Less important\n",
      "Model Recall: 0.917\n"
     ]
    }
   ],
   "source": [
    "#################################\n",
    "# SVM Model - Kaggle best 77.2% #\n",
    "#################################\n",
    "\n",
    "# Split dataset into training set and test set\n",
    "X_train, X_test, y_train, y_test = train_test_split(data, labels, test_size=0.3, random_state=109) # 70% training and 30% test\n",
    "#Create a svm Classifier\n",
    "clf = svm.SVC(kernel='sigmoid') # Best Kernel was Sigmoid \n",
    "\n",
    "#Train the model using the training sets\n",
    "clf.fit(X_train, y_train)\n",
    "\n",
    "#Predict the response for test dataset\n",
    "y_pred = clf.predict(X_test)\n",
    "\n",
    "####################\n",
    "# Model Evaluation #\n",
    "####################\n",
    "# read again, refresh memory https://www.jeremyjordan.me/evaluating-a-machine-learning-model/\n",
    "# read up on random_state=109 why, without it model is bad \n",
    "# https://www.datacamp.com/community/tutorials/svm-classification-scikit-learn-python\n",
    "\n",
    "print ('Model Evaluation')\n",
    "\n",
    "# Model Accuracy: how often is the classifier correct\n",
    "print(\"Model Accuracy:\", round(metrics.accuracy_score(y_test, y_pred), 3))\n",
    "\n",
    "# Model Precision: what percentage of positive tuples are labeled as such\n",
    "print(\"Model Precision:\", round(metrics.precision_score(y_test, y_pred), 3))\n",
    "\n",
    "# Model Recall: what percentage of positive tuples are labelled as such\n",
    "print('Less important')\n",
    "print(\"Model Recall:\", round(metrics.recall_score(y_test, y_pred), 3))\n",
    "\n",
    "\n",
    "##############################\n",
    "# Testing model on test data #\n",
    "##############################\n",
    "\n",
    "X_test, y_test = train_test_split(test_data_df, test_size=1, random_state=109) # 70% training and 30% testprint(\"after split check\", len(X_test),  len(y_test))\n",
    "y_pred = clf.predict(test_data_df)\n",
    "# probability preformed really bad, so i think 0 or 1 is a better \n",
    "# y_predict_proba = clf.predict_proba(test_data_df)\n",
    "submition_csv['Probability'] = y_pred\n",
    "submition_csv\n",
    "submition_csv.to_csv('test_submition.csv', index=False)\n"
   ]
  },
  {
   "cell_type": "code",
   "execution_count": null,
   "metadata": {},
   "outputs": [],
   "source": []
  }
 ],
 "metadata": {
  "kernelspec": {
   "display_name": "Python 3",
   "language": "python",
   "name": "python3"
  },
  "language_info": {
   "codemirror_mode": {
    "name": "ipython",
    "version": 3
   },
   "file_extension": ".py",
   "mimetype": "text/x-python",
   "name": "python",
   "nbconvert_exporter": "python",
   "pygments_lexer": "ipython3",
   "version": "3.8.5"
  }
 },
 "nbformat": 4,
 "nbformat_minor": 4
}
