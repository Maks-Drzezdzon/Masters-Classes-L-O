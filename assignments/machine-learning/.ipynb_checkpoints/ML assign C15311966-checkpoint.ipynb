{
 "cells": [
  {
   "cell_type": "markdown",
   "metadata": {},
   "source": [
    "# Due data 30th April, Friday\n"
   ]
  },
  {
   "cell_type": "markdown",
   "metadata": {},
   "source": [
    "# Index\n",
    "* [Project Setup](#Setup)\n",
    "  * [Loading Data](#Loading-Data)\n",
    "  * [Data Preprocessing](#Data-Preperation)\n",
    "  * [Quick Setup](#Start-Here---Personal-Setup)\n",
    "* [Model Trained](#Models)\n",
    "  * [SVM](#SVM)\n",
    "  * [Random Forest](#Random-Forest)\n",
    "    * [Feature Selection](#Feature-Selection)\n",
    "  * [LinearDiscriminantAnalysis Model](#LinearDiscriminantAnalysis-Model)\n",
    "  * [Test Bench](#Test-Bench)"
   ]
  },
  {
   "cell_type": "markdown",
   "metadata": {},
   "source": [
    "# Setup"
   ]
  },
  {
   "cell_type": "code",
   "execution_count": 1,
   "metadata": {},
   "outputs": [],
   "source": [
    "import matplotlib.pyplot as plt\n",
    "import seaborn as sns\n",
    "import sklearn\n",
    "import pandas as pd\n",
    "import numpy as np\n",
    "\n",
    "from sklearn import preprocessing\n",
    "from sklearn.preprocessing import StandardScaler\n",
    "\n",
    "from sklearn import metrics\n",
    "from sklearn.model_selection import cross_val_score, cross_validate, train_test_split, learning_curve, GridSearchCV\n",
    "from sklearn.metrics import classification_report, confusion_matrix, f1_score, make_scorer, cohen_kappa_score\n",
    "from statistics import mean\n",
    "\n",
    "from sklearn.utils.multiclass import unique_labels\n",
    "\n",
    "from sklearn import svm\n",
    "from sklearn.svm import SVC\n",
    "from sklearn.linear_model import LogisticRegression\n",
    "from sklearn.ensemble import RandomForestClassifier\n",
    "from sklearn.discriminant_analysis import LinearDiscriminantAnalysis\n",
    "from sklearn.neural_network import MLPClassifier "
   ]
  },
  {
   "cell_type": "markdown",
   "metadata": {},
   "source": [
    "# Loading Data\n",
    "- [Back To Top](#Index)"
   ]
  },
  {
   "cell_type": "code",
   "execution_count": 2,
   "metadata": {},
   "outputs": [
    {
     "name": "stdout",
     "output_type": "stream",
     "text": [
      "Data load complete\n"
     ]
    }
   ],
   "source": [
    "# load data for train split instead\n",
    "train_FNC = pd.read_csv('../../../../mlsp-2014-mri/Train/train_FNC.csv', delimiter=',')\n",
    "train_SBM = pd.read_csv('../../../../mlsp-2014-mri/Train/train_SBM.csv', delimiter=',')\n",
    "train_labels = pd.read_csv(  '../../../../mlsp-2014-mri/Train/train_labels.csv', delimiter=',')\n",
    "\n",
    "test_FNC = pd.read_csv('../../../../mlsp-2014-mri/Test/test_FNC.csv', delimiter=',')\n",
    "test_SBM = pd.read_csv('../../../../mlsp-2014-mri/Test/test_SBM.csv', delimiter=',')\n",
    "print('Data load complete')"
   ]
  },
  {
   "cell_type": "markdown",
   "metadata": {},
   "source": [
    "# Data Preperation\n",
    "- [Back To Top](#Index)"
   ]
  },
  {
   "cell_type": "code",
   "execution_count": 2,
   "metadata": {},
   "outputs": [
    {
     "ename": "NameError",
     "evalue": "name 'train_FNC' is not defined",
     "output_type": "error",
     "traceback": [
      "\u001b[1;31m---------------------------------------------------------------------------\u001b[0m",
      "\u001b[1;31mNameError\u001b[0m                                 Traceback (most recent call last)",
      "\u001b[1;32m<ipython-input-2-dedd6f483bf4>\u001b[0m in \u001b[0;36m<module>\u001b[1;34m\u001b[0m\n\u001b[0;32m      1\u001b[0m \u001b[1;31m# Merge data\u001b[0m\u001b[1;33m\u001b[0m\u001b[1;33m\u001b[0m\u001b[1;33m\u001b[0m\u001b[0m\n\u001b[0;32m      2\u001b[0m \u001b[1;31m# Train data\u001b[0m\u001b[1;33m\u001b[0m\u001b[1;33m\u001b[0m\u001b[1;33m\u001b[0m\u001b[0m\n\u001b[1;32m----> 3\u001b[1;33m \u001b[0mdata\u001b[0m \u001b[1;33m=\u001b[0m \u001b[0mpd\u001b[0m\u001b[1;33m.\u001b[0m\u001b[0mmerge\u001b[0m\u001b[1;33m(\u001b[0m\u001b[0mtrain_FNC\u001b[0m\u001b[1;33m,\u001b[0m \u001b[0mtrain_SBM\u001b[0m\u001b[1;33m)\u001b[0m\u001b[1;33m\u001b[0m\u001b[1;33m\u001b[0m\u001b[0m\n\u001b[0m\u001b[0;32m      4\u001b[0m \u001b[0mdata_2\u001b[0m \u001b[1;33m=\u001b[0m \u001b[0mpd\u001b[0m\u001b[1;33m.\u001b[0m\u001b[0mmerge\u001b[0m\u001b[1;33m(\u001b[0m\u001b[0mdata\u001b[0m\u001b[1;33m,\u001b[0m \u001b[0mtrain_labels\u001b[0m\u001b[1;33m)\u001b[0m\u001b[1;33m\u001b[0m\u001b[1;33m\u001b[0m\u001b[0m\n\u001b[0;32m      5\u001b[0m \u001b[0mdata_2\u001b[0m\u001b[1;33m.\u001b[0m\u001b[0mto_csv\u001b[0m\u001b[1;33m(\u001b[0m\u001b[1;34m'amalgamated_train_data.csv'\u001b[0m\u001b[1;33m,\u001b[0m \u001b[0mindex\u001b[0m\u001b[1;33m=\u001b[0m\u001b[1;32mFalse\u001b[0m\u001b[1;33m)\u001b[0m\u001b[1;33m\u001b[0m\u001b[1;33m\u001b[0m\u001b[0m\n",
      "\u001b[1;31mNameError\u001b[0m: name 'train_FNC' is not defined"
     ]
    }
   ],
   "source": [
    "# Merge data\n",
    "# Train data\n",
    "data = pd.merge(train_FNC, train_SBM)\n",
    "data_2 = pd.merge(data, train_labels)\n",
    "data_2.to_csv('amalgamated_train_data.csv', index=False)\n",
    "train_data = pd.read_csv('../../../../mlsp-2014-mri/assign_data/amalgamated_train_data.csv', delimiter=',')\n",
    "\n",
    "# Test data\n",
    "test_data = pd.merge(test_FNC, test_SBM)\n",
    "test_data.to_csv('amalgamated_test_data.csv', index=False)\n",
    "print('done')\n",
    "# had to remove index in R because python apparently cant do that \n",
    "# R code below \n",
    "# data = read.csv(\"mlsp-2014-mri/amalgamated_train_data.csv\", as.is=T, header=T, sep=\",\")\n",
    "# write.csv(data[,-1], 'mlsp-2014-mri/assign_data/amalgamated_train_data.csv', row.names = F)\n",
    "\n",
    "# data = read.csv(\"mlsp-2014-mri/amalgamated_test_data.csv\", as.is=T, header=T, sep=\",\")\n",
    "# write.csv(data[,-1], 'mlsp-2014-mri/assign_data/amalgamated_test_data.csv', row.names = F)"
   ]
  },
  {
   "cell_type": "markdown",
   "metadata": {},
   "source": [
    "# Start Here - Personal Setup \n",
    "- [Back To Top](#Index)"
   ]
  },
  {
   "cell_type": "code",
   "execution_count": 2,
   "metadata": {},
   "outputs": [
    {
     "name": "stdout",
     "output_type": "stream",
     "text": [
      "Data load & setup complete\n"
     ]
    }
   ],
   "source": [
    "# This cell just loads data and prepares it so i can run models using it #\n",
    "\n",
    "# load data\n",
    "train_data = pd.read_csv('../../../../mlsp-2014-mri/assign_data/amalgamated_train_data.csv', delimiter=',', index_col=False)\n",
    "test_data = pd.read_csv('../../../../mlsp-2014-mri/assign_data/amalgamated_test_data.csv', delimiter=',', index_col=False)\n",
    "# convert test data to df from numpy array\n",
    "test_data_df = pd.DataFrame(test_data)\n",
    "\n",
    "# Prepare values for training data\n",
    "labels = train_data.pop('Class').values\n",
    "data = train_data.values\n",
    "\n",
    "# load data for submition\n",
    "submition_csv = pd.read_csv(  '../../../../mlsp-2014-mri/submission_example.csv', delimiter=',')\n",
    "scaler = StandardScaler()\n",
    "\n",
    "print('Data load & setup complete')"
   ]
  },
  {
   "cell_type": "markdown",
   "metadata": {},
   "source": [
    "# Models"
   ]
  },
  {
   "cell_type": "markdown",
   "metadata": {},
   "source": [
    "* [Back To Top](#Index)\n",
    "    * [SVM - 86.15%](#SVM)\n",
    "    * [Random Forest - 74.6%](#Random-Forest)\n",
    "    * [LinearDiscriminantAnalysis Model - 82.8%](#LinearDiscriminantAnalysis)\n",
    "    * [Test Bench](#Test-Bench)"
   ]
  },
  {
   "cell_type": "markdown",
   "metadata": {},
   "source": [
    "# SVM\n",
    "\n",
    "- SVM Model - Kaggle best 85.6% \n",
    "- [Back To Top](#Index)\n",
    "- [Models](#Models)\n",
    "---------------------------\n",
    "\n",
    "- [Learn Rate - SVM](#Learn-Rate-SVM)\n",
    "- [ROC - SVM](#ROC-SVM)"
   ]
  },
  {
   "cell_type": "code",
   "execution_count": 4,
   "metadata": {},
   "outputs": [
    {
     "name": "stdout",
     "output_type": "stream",
     "text": [
      "best acc  76.667\n",
      "best params  {'C': 100, 'cache_size': 200, 'coef0': 0.7, 'gamma': 0.0001, 'kernel': 'poly', 'random_state': 0}\n",
      "Model Evaluation\n",
      "Model Accuracy: 0.808\n",
      "Model Precision: 0.9\n",
      "Model Recall: 0.692\n",
      "F1 Score:  0.805\n",
      "Cohens Kappa : 0.615\n",
      "Classification Report :\n",
      "               precision    recall  f1-score   support\n",
      "\n",
      "           0       0.75      0.92      0.83        13\n",
      "           1       0.90      0.69      0.78        13\n",
      "\n",
      "    accuracy                           0.81        26\n",
      "   macro avg       0.82      0.81      0.81        26\n",
      "weighted avg       0.83      0.81      0.81        26\n",
      "\n",
      "K-fold Cross Validation scores:\n",
      "Max Score:  1.0\n",
      "Min Score:  0.5\n",
      "Mean Score : 0.717\n"
     ]
    }
   ],
   "source": [
    "# using a scalar helps when working with SVM as it uses distance to classify data\n",
    "# however when sent to kaggle, this lowered their score\n",
    "# with local testing the same AUC and slighlty higher F1, acc, rec metrics were gathered\n",
    "# however because of the kaggl score these were not used\n",
    "# the best kernels for this appraoch were rbf, poly and linear yielding similar results\n",
    "\n",
    "#sc = StandardScaler()\n",
    "\n",
    "# Split dataset into training set and test set\n",
    "X_train, X_test, y_train, y_test = train_test_split(data, labels, \n",
    "                                                    test_size=0.3, \n",
    "                                                    random_state=104) # best presplit 104\n",
    "\n",
    "# using a scaler didnt help\n",
    "\n",
    "#X_train = sc.fit_transform(X_train)\n",
    "#X_test = sc.transform(X_test)\n",
    "\n",
    "#scal = StandardScaler().fit(X_train)\n",
    "#X_trainS = scal.transform(X_train)\n",
    "#X_testS = scal.transform(X_test)\n",
    "\n",
    "# original grid_search configs\n",
    "\n",
    "# param_grid = [\n",
    "#    {'C': [1, 10, 100, 1000], 'kernel': ['linear'], 'gamma': [0.001, 0.0001, 'scale', 'auto'], \n",
    "#     'random_state': [10, 15, 20, 25, 30, 35, 40, 45, 50, 55, 60, 65, 75, 80, 85, 90, 95, 100, 104], \n",
    "#     'cache_size': [200, 300, 400, 500]},\n",
    "#    {'C': [1, 10, 100, 1000], 'kernel': ['rbf'], 'gamma': [0.001, 0.0001, 'scale', 'auto'], \n",
    "#     'random_state': [0, 1, 2, 3, 4, 5, 6, 7, 8, 9, 10, 15, 20, 21, 22, 23, 24, 25, 26, 27, 28, 29, \n",
    "#                      30, 35, 40, 45, 50, 55, 60, 65, 75, 80, 85, 90, 95, 100, 104], \n",
    "#     'cache_size': [200, 300, 400, 500]},\n",
    "#    {'C': [1, 10, 100, 1000], 'kernel': ['poly'], 'gamma': [0.001, 0.0001, 'scale', 'auto'], \n",
    "#     'random_state': [0, 1, 2, 3, 4, 5, 6, 7, 8, 9, 10, 15, 20, 21, 22, 23, 24, 25, 26, 27, 28, 29, \n",
    "#                      30, 35, 40, 45, 50, 55, 60, 65, 75, 80, 85, 90, 95, 100, 104], \n",
    "#     'cache_size': [200, 300, 400, 500], \n",
    "#     'coef0': [0, 0.1, 0.2, 0.3, 0.4, 0.5, 0.6, 0.7, 0.8, 0.9]},\n",
    "#    {'C': [1, 10, 100, 1000], 'kernel': ['sigmoid'], 'gamma': [0.001, 0.0001, 'scale', 'auto'], \n",
    "#     'random_state': [0, 1, 2, 3, 4, 5, 6, 7, 8, 9, 10, 15, 20, 21, 22, 23, 24, 25, 26, 27, 28, 29, \n",
    "#                      30, 35, 40, 45, 50, 55, 60, 65, 75, 80, 85, 90, 95, 100, 104],\n",
    "#     'cache_size': [200, 300, 400, 500],\n",
    "#     'coef0': [0, 0.1, 0.2, 0.3, 0.4, 0.5, 0.6, 0.7, 0.8, 0.9]}\n",
    "# ]\n",
    "\n",
    "# this was then used to test and retrain models to save time and compute resources\n",
    "param_grid = [\n",
    "    {'C': [1, 10, 100], 'kernel': ['poly'], 'gamma': [0.001, 0.0001, 'scale', 'auto'], \n",
    "     'random_state': [0, 1, 2, 3, 4, 5, 6, 7, 8, 9, 10, 15, 20, 21, 22, 23, 24, 25], \n",
    "     'cache_size': [200], \n",
    "     'coef0': [0, 0.1, 0.2, 0.3, 0.4, 0.5, 0.6, 0.7, 0.8, 0.9]}\n",
    " ]\n",
    "\n",
    "clf = svm.SVC()\n",
    "grid_search = GridSearchCV(estimator=clf, param_grid=param_grid, scoring = 'accuracy')\n",
    "svm_gs = grid_search.fit(X_train, y_train)\n",
    "\n",
    "best_acc = grid_search.best_score_\n",
    "best_params = grid_search.best_params_\n",
    "print(\"best acc \", round(best_acc*100, 3))\n",
    "print(\"best params \", best_params)\n",
    "\n",
    "# Create a svm Classifier\n",
    "# these were the best params that the grid search suggested, however they didnt come close to what i got with \n",
    "# manual testing\n",
    "#clf = svm.SVC(cache_size=200, coef0=0.4, gamma='scale', kernel='poly', random_state=25)\n",
    "\n",
    "# despite scalling, not scaling, grid searching or not, \n",
    "# kaggle didnt seem to like the output, the best model was found manually below\n",
    "\n",
    "# m_svm = clf.predict(X_test) \n",
    "m_svm = svm_gs.predict(X_test)\n",
    "    \n",
    "####################\n",
    "# Model Evaluation #\n",
    "####################\n",
    "print ('Model Evaluation')\n",
    "# Model Accuracy: how often is the classifier correct\n",
    "print(\"Model Accuracy:\", round(metrics.accuracy_score(y_test, m_svm), 3))\n",
    "# Model Precision: what percentage of positive tuples are labeled as such\n",
    "print(\"Model Precision:\", round(metrics.precision_score(y_test, m_svm), 3))\n",
    "# Model Recall: what percentage of positive tuples are labelled as such\n",
    "print(\"Model Recall:\", round(metrics.recall_score(y_test, m_svm), 3))\n",
    "# Calculate metrics for each label, and find their unweighted mean. This does not take label imbalance into account.\n",
    "print('F1 Score: ', round(f1_score(y_test, m_svm, average=\"macro\"), 3))\n",
    "\n",
    "print('Cohens Kappa :', round(cohen_kappa_score(y_test , m_svm), 3))\n",
    "# Combination of Accuracy, Precision, Recall \n",
    "print(\"Classification Report :\\n\", classification_report(y_test,m_svm))\n",
    "\n",
    "cvs = cross_val_score(svm_gs, data, labels, cv=10)\n",
    "\n",
    "print('K-fold Cross Validation scores:')\n",
    "print('Max Score: ', round(max(cvs), 3))\n",
    "print('Min Score: ', round(min(cvs), 3))\n",
    "print('Mean Score :', round(mean(cvs), 3))\n",
    "\n",
    "##############################\n",
    "# Testing model on test data #\n",
    "##############################\n",
    "\n",
    "X_test, y_test = train_test_split(test_data_df, test_size=1, random_state=104) # 70% training and 30% testprint(\"after split check\", len(X_test),  len(y_test))\n",
    "#scaled_test = sc.fit_transform(X_test)\n",
    "#scal = StandardScaler().fit(test_data_df)\n",
    "#test = scal.transform(test_data_df)\n",
    "\n",
    "\n",
    "m_svm = svm_gs.predict(test_data_df)\n",
    "submition_csv['Probability'] = m_svm\n",
    "submition_csv.to_csv('m_svm_submition.csv', index=False)"
   ]
  },
  {
   "cell_type": "code",
   "execution_count": null,
   "metadata": {},
   "outputs": [],
   "source": [
    "# I tried using this to find a better random_state but \n",
    "# I couldnt retrieve the number\n",
    "# Private score 0.82820\n",
    "# Public score 0.83928\n",
    "\n",
    "# after toying around with retrieving the random state var \n",
    "# I used binary searchs logic to find 104 as being the best, \n",
    "# I assume there would be a better/more elegant way of doing this\n",
    "\n",
    "# from sklearn.utils import check_random_state\n",
    "best_acc = 0\n",
    "# best_state = 0\n",
    "# removed random_state=109\n",
    "for _ in range(100):\n",
    "    # Split dataset into training set and test set\n",
    "    X_train, X_test, y_train, y_test = train_test_split(data, labels, test_size=0.3) \n",
    "    # 70% training and 30% test\n",
    "    # Create a svm Classifier\n",
    "    clf = svm.SVC(kernel='sigmoid') # Best Kernel was Sigmoid \n",
    "    #Train the model using the training sets\n",
    "    clf.fit(X_train, y_train)\n",
    "    #Predict the response for test dataset\n",
    "    acc = clf.score(X_train, y_train)\n",
    "    state = check_random_state(clf.random_state)\n",
    "    # print(acc)\n",
    "    if acc > best_acc:  \n",
    "        best_acc = acc\n",
    "        # best_state = state\n",
    "        m_svm = clf.predict(X_test)    \n",
    "# print('state: ', state)    \n",
    "print('best: ', best_acc)"
   ]
  },
  {
   "cell_type": "markdown",
   "metadata": {},
   "source": [
    "### ROC SVM\n",
    "- [Back To Top](#Index)\n",
    "- [Models](#Models)\n",
    "- [Start of SVM](#SVM)"
   ]
  },
  {
   "cell_type": "code",
   "execution_count": 6,
   "metadata": {},
   "outputs": [
    {
     "data": {
      "image/png": "[encoded data removed]",
      "text/plain": [
       "<Figure size 432x288 with 1 Axes>"
      ]
     },
     "metadata": {
      "needs_background": "light"
     },
     "output_type": "display_data"
    }
   ],
   "source": [
    "X_train, X_test, y_train, y_test = train_test_split(data, labels, \n",
    "                                                    test_size=0.3, \n",
    "                                                    random_state=104) \n",
    "#X_test = sc.transform(X_test)\n",
    "\n",
    "m_svm = svm_gs.predict(X_test)\n",
    "\n",
    "fpr, tpr, threshold = metrics.roc_curve(y_test, m_svm)\n",
    "roc_auc = metrics.auc(fpr, tpr)\n",
    "plt.title('Receiver Operating Characteristic')\n",
    "plt.plot(fpr, tpr, 'b', label = 'AUC = %0.2f' % roc_auc)\n",
    "plt.legend(loc = 'lower right')\n",
    "plt.plot([0, 1], [0, 1],'r--')\n",
    "plt.xlim([0, 1])\n",
    "plt.ylim([0, 1])\n",
    "plt.ylabel('True Positive Rate')\n",
    "plt.xlabel('False Positive Rate')\n",
    "plt.show()"
   ]
  },
  {
   "cell_type": "markdown",
   "metadata": {},
   "source": [
    "Any random_state above or below 104 would cause the curve to go out of whack and shot upto 90-97+ which didnt preform well despite looking impressive, its a sign of being over fitted to the data used to train it"
   ]
  },
  {
   "cell_type": "markdown",
   "metadata": {},
   "source": [
    "### Learn Rate SVM\n",
    "- [Back To Top](#Index)\n",
    "- [Models](#Models)\n",
    "- [Start of SVM](#SVM)"
   ]
  },
  {
   "cell_type": "markdown",
   "metadata": {},
   "source": [
    "A learning curve can be used to diganose under or over fitting. y-axis is the learning rate, x-axis is the experiance  the model is gaining. The Diagram above shows that improvements can be made and that the training process could continue given more data was available."
   ]
  },
  {
   "cell_type": "code",
   "execution_count": 7,
   "metadata": {},
   "outputs": [
    {
     "data": {
      "text/plain": [
       "Text(0, 0.5, 'Accuracy Score')"
      ]
     },
     "execution_count": 7,
     "metadata": {},
     "output_type": "execute_result"
    },
    {
     "data": {
      "image/png": "[encoded data removed]",
      "text/plain": [
       "<Figure size 432x288 with 1 Axes>"
      ]
     },
     "metadata": {
      "needs_background": "light"
     },
     "output_type": "display_data"
    }
   ],
   "source": [
    "# Learn rate Curve\n",
    "# uses k-cross validation = 5 by default\n",
    "train_sizes, train_scores, test_scores = learning_curve(estimator = svm_gs, \n",
    "                                                        X = data, \n",
    "                                                        y = labels,\n",
    "                                                        cv=5,\n",
    "                                                        scoring='accuracy',\n",
    "                                                        n_jobs=-1)\n",
    "\n",
    "plt.plot(train_sizes, np.mean(train_scores, axis=1))\n",
    "plt.title(\"Learn Curve for SVM Model\")\n",
    "plt.xlabel(\"Experiance Gained\")\n",
    "plt.ylabel(\"Accuracy Score\")"
   ]
  },
  {
   "cell_type": "markdown",
   "metadata": {},
   "source": [
    "Feature selection would most definetly help with this models performance, however ive ran out of time to do that. Data for feature selection has been identified and extracted below. "
   ]
  },
  {
   "cell_type": "markdown",
   "metadata": {},
   "source": [
    "# Random Forest \n",
    "- Kaggle best 74.6%\n",
    "- [Back To Top](#Index)\n",
    "- [Models](#Models)\n",
    "\n",
    "-------------------\n",
    "- [Feature Selection](#Feature-Selection)\n",
    "- [Learn Rate - Random Forest](#Learn-Rate-Random-Forest)\n",
    "- [ROC - Random Forest](#ROC-Random-Forest)"
   ]
  },
  {
   "cell_type": "code",
   "execution_count": null,
   "metadata": {},
   "outputs": [
    {
     "name": "stdout",
     "output_type": "stream",
     "text": [
      "Model Evaluation\n",
      "Model Accuracy: 0.692\n",
      "Model Precision: 0.667\n",
      "Model Recall: 0.545\n",
      "F1 Score:  0.675\n",
      "Cohens Kappa : 0.354\n",
      "Classification Report :\n",
      "               precision    recall  f1-score   support\n",
      "\n",
      "           0       0.71      0.80      0.75        15\n",
      "           1       0.67      0.55      0.60        11\n",
      "\n",
      "    accuracy                           0.69        26\n",
      "   macro avg       0.69      0.67      0.68        26\n",
      "weighted avg       0.69      0.69      0.69        26\n",
      "\n"
     ]
    }
   ],
   "source": [
    "# random state yielded the best local result\n",
    "X_train, X_test, y_train, y_test = train_test_split(data, labels, \n",
    "                                                    test_size=0.3, \n",
    "                                                    random_state=100)\n",
    "\n",
    "#param_grid = [\n",
    "#    {'n_estimators':[75, 100, 125], 'criterion': ['gini', 'entropy'], \n",
    "#    'max_depth': [None], 'min_samples_split': [2, 3], \n",
    "#    'min_samples_leaf': [1, 2], 'random_state': [100, 50, 75, 125], \n",
    "#    'max_features': ['auto', 'sqrt', 'log2']}\n",
    "# ]\n",
    "\n",
    "\n",
    "#clf = RandomForestClassifier()\n",
    "#grid_search = GridSearchCV(estimator=clf, param_grid=param_grid, scoring = 'accuracy')\n",
    "#random_forest_gs = grid_search.fit(X_train, y_train)\n",
    "\n",
    "#best_acc = grid_search.best_score_\n",
    "#best_params = grid_search.best_params_\n",
    "#print(\"best acc \", round(best_acc*100, 3))\n",
    "#print(\"best params \", best_params)\n",
    "\n",
    "clf=RandomForestClassifier(criterion='entropy')\n",
    "clf.fit(X_train,y_train)\n",
    "\n",
    "m_random_forest = clf.predict(X_test)\n",
    "\n",
    "####################\n",
    "# Model Evaluation #\n",
    "####################\n",
    "print ('Model Evaluation')\n",
    "# Model Accuracy: how often is the classifier correct\n",
    "print(\"Model Accuracy:\", round(metrics.accuracy_score(y_test, m_random_forest), 3))\n",
    "# Model Precision: what percentage of positive tuples are labeled as such\n",
    "print(\"Model Precision:\", round(metrics.precision_score(y_test, m_random_forest), 3))\n",
    "# Model Recall: what percentage of positive tuples are labelled as such\n",
    "print(\"Model Recall:\", round(metrics.recall_score(y_test, m_random_forest), 3))\n",
    "# Calculate metrics for each label, and find their unweighted mean. This does not take label imbalance into account.\n",
    "print('F1 Score: ', round(f1_score(y_test, m_random_forest, average=\"macro\"), 3))\n",
    "\n",
    "print('Cohens Kappa :', round(cohen_kappa_score(y_test , m_random_forest), 3))\n",
    "# Combination of Accuracy, Precision, Recall \n",
    "print(\"Classification Report :\\n\", classification_report(y_test, m_random_forest))\n",
    "\n",
    "cvs = cross_val_score(random_forest_gs, data, labels, cv=10)\n",
    "\n",
    "print('K-fold Cross Validation scores:')\n",
    "print('Max Score: ', round(max(cvs), 3))\n",
    "print('Min Score: ', round(min(cvs), 3))\n",
    "print('Mean Score :', round(mean(cvs), 3))\n",
    "\n",
    "\n",
    "##############################\n",
    "# Testing model on test data #\n",
    "##############################\n",
    "\n",
    "X_test, y_test = train_test_split(test_data_df, test_size=1, random_state=100) # 70% training and 30% testprint(\"after split check\", len(X_test),  len(y_test))\n",
    "m_random_forest = clf.predict(test_data_df)\n",
    "\n",
    "\n",
    "submition_csv['Probability'] = m_random_forest\n",
    "submition_csv\n",
    "submition_csv.to_csv('m_random_forest_submition.csv', index=False)"
   ]
  },
  {
   "cell_type": "markdown",
   "metadata": {},
   "source": [
    "# Feature Selection\n",
    "- [Back To Top](#Index)\n",
    "- [Models](#Models)\n",
    "- [Top of Random Forest](#Random-Forest)"
   ]
  },
  {
   "cell_type": "code",
   "execution_count": 100,
   "metadata": {},
   "outputs": [
    {
     "data": {
      "image/png": "[encoded data removed]",
      "text/plain": [
       "<Figure size 432x288 with 1 Axes>"
      ]
     },
     "metadata": {
      "needs_background": "light"
     },
     "output_type": "display_data"
    }
   ],
   "source": [
    "X_train, X_test, y_train, y_test = train_test_split(data, labels,\n",
    "                                                    test_size=0.3,\n",
    "                                                    random_state=100) \n",
    "\n",
    "# Predict the response for test dataset\n",
    "# sc = StandardScaler()\n",
    "# x_train = sc.fit_transform(X_train)\n",
    "# x_test = sc.transform(X_test)\n",
    "\n",
    "clf=RandomForestClassifier(criterion='entropy')\n",
    "clf.fit(X_train,y_train)\n",
    "\n",
    "m_random_forest = clf.predict(X_test)\n",
    "\n",
    "feature_imp = pd.Series(clf.feature_importances_, index=train_data.columns).sort_values(ascending=False)\n",
    "\n",
    "# keep top 15 values\n",
    "top_ten_features = feature_imp.nlargest(15, keep='all')\n",
    "\n",
    "%matplotlib inline\n",
    "# Creating a bar plot\n",
    "sns.barplot(x=top_ten_features, y=top_ten_features.index)\n",
    "# labels\n",
    "plt.xlabel('Feature Importance Score')\n",
    "plt.ylabel('Features')\n",
    "plt.title(\"Visualizing Important Features\")\n",
    "# the legend works but takes up space and isnt needed\n",
    "# plt.legend(top_ten_features.keys())\n",
    "plt.show()\n",
    "\n",
    "##############################\n",
    "# Testing model on test data #\n",
    "##############################\n",
    "top_ten_labels = list(train_data[top_ten_features.keys()].keys())\n",
    "top_ten_data = train_data[top_ten_features.keys()].values\n",
    "# extracted 15 features \n",
    "train_data_2 = train_data[top_ten_labels]\n"
   ]
  },
  {
   "cell_type": "markdown",
   "metadata": {},
   "source": [
    "### ROC Random Forest\n",
    "- [Back To Top](#Index)\n",
    "- [Models](#Models)\n",
    "- [Top of Random Forest](#Random-Forest)"
   ]
  },
  {
   "cell_type": "code",
   "execution_count": 242,
   "metadata": {},
   "outputs": [
    {
     "data": {
      "image/png": "[encoded data removed]",
      "text/plain": [
       "<Figure size 432x288 with 1 Axes>"
      ]
     },
     "metadata": {
      "needs_background": "light"
     },
     "output_type": "display_data"
    }
   ],
   "source": [
    "X_train, X_test, y_train, y_test = train_test_split(data, labels, \n",
    "                                                    test_size=0.3, \n",
    "                                                    random_state=100) \n",
    "clf = RandomForestClassifier(n_estimators=100)\n",
    "clf.fit(X_train,y_train)\n",
    "m_randomForest = clf.predict(X_test)\n",
    "\n",
    "fpr, tpr, threshold = metrics.roc_curve(y_test, m_randomForest)\n",
    "roc_auc = metrics.auc(fpr, tpr)\n",
    "plt.title('Receiver Operating Characteristic')\n",
    "plt.plot(fpr, tpr, 'b', label = 'AUC = %0.2f' % roc_auc)\n",
    "plt.legend(loc = 'lower right')\n",
    "plt.plot([0, 1], [0, 1],'r--')\n",
    "plt.xlim([0, 1])\n",
    "plt.ylim([0, 1])\n",
    "plt.ylabel('True Positive Rate')\n",
    "plt.xlabel('False Positive Rate')\n",
    "plt.show()"
   ]
  },
  {
   "cell_type": "markdown",
   "metadata": {},
   "source": [
    "### Learn Rate Random Forest\n",
    "- [Back To Top](#Index)\n",
    "- [Models](#Models)\n",
    "- [Top of Random Forest](#Random-Forest)"
   ]
  },
  {
   "cell_type": "code",
   "execution_count": 249,
   "metadata": {},
   "outputs": [
    {
     "data": {
      "text/plain": [
       "Text(0, 0.5, 'Accuracy Score')"
      ]
     },
     "execution_count": 249,
     "metadata": {},
     "output_type": "execute_result"
    },
    {
     "data": {
      "image/png": "[encoded data removed]",
      "text/plain": [
       "<Figure size 432x288 with 1 Axes>"
      ]
     },
     "metadata": {
      "needs_background": "light"
     },
     "output_type": "display_data"
    }
   ],
   "source": [
    "# Learn rate Curve\n",
    "# uses k-cross validation = 5 by default\n",
    "train_sizes, train_scores, test_scores = learning_curve(estimator = RandomForestClassifier(), \n",
    "                                                        X = data, \n",
    "                                                        y = labels,\n",
    "                                                        cv=10,\n",
    "                                                        scoring='accuracy',\n",
    "                                                        n_jobs=-1)\n",
    "\n",
    "plt.plot(train_sizes, np.mean(train_scores, axis=1))\n",
    "plt.title(\"Learn Curve for SVM Model\")\n",
    "plt.xlabel(\"Training Set Size\")\n",
    "plt.ylabel(\"Accuracy Score\")"
   ]
  },
  {
   "cell_type": "markdown",
   "metadata": {},
   "source": [
    "Random forest does not make use of this kind of metric, therefore its going to be flat"
   ]
  },
  {
   "cell_type": "markdown",
   "metadata": {},
   "source": [
    "# LinearDiscriminantAnalysis\n",
    "- Kaggle best 82.8%\n",
    "- [Back To Top](#Index)\n",
    "- [Models](#Models)\n",
    "----------------\n",
    "- [Learn Rate LDA](#Learn-Rate-LDA)\n",
    "- [ROC-LDA](#ROC-LDA)\n",
    "- [Top of Linear Discriminant Analysis](#LinearDiscriminantAnalysis)"
   ]
  },
  {
   "cell_type": "code",
   "execution_count": 18,
   "metadata": {},
   "outputs": [
    {
     "name": "stdout",
     "output_type": "stream",
     "text": [
      "best acc  56.667\n",
      "best params  {'solver': 'svd', 'tol': 1e-05}\n",
      "Model Evaluation\n",
      "Model Accuracy: 0.769\n",
      "Model Precision: 0.833\n",
      "Model Recall: 0.714\n",
      "F1 Score:  0.769\n",
      "Cohens Kappa : 0.541\n",
      "Classification Report :\n",
      "               precision    recall  f1-score   support\n",
      "\n",
      "           0       0.71      0.83      0.77        12\n",
      "           1       0.83      0.71      0.77        14\n",
      "\n",
      "    accuracy                           0.77        26\n",
      "   macro avg       0.77      0.77      0.77        26\n",
      "weighted avg       0.78      0.77      0.77        26\n",
      "\n",
      "K-fold Cross Validation scores:\n",
      "Max Score:  0.889\n",
      "Min Score:  0.333\n",
      "Mean Score : 0.661\n"
     ]
    }
   ],
   "source": [
    "# Private Score 0.82820\n",
    "# Public Score 0.63839\n",
    "\n",
    "X_train, X_test, y_train, y_test = train_test_split(data, labels, test_size=0.3, random_state=25) # 70% training and 30% test\n",
    "#Create a LinearDiscriminantAnalysis\n",
    "clf = LinearDiscriminantAnalysis()\n",
    "\n",
    "\n",
    "param_grid = [\n",
    "    {'solver': ['svd', 'lsqr'], 'tol': [0.00001, 0.000001, 0.0001, 0.001]}\n",
    " ]\n",
    "\n",
    "\n",
    "grid_search = GridSearchCV(estimator=clf, param_grid=param_grid, scoring = 'accuracy')\n",
    "linear_disc_analysis_gs = grid_search.fit(X_train, y_train)\n",
    "\n",
    "best_acc = grid_search.best_score_\n",
    "best_params = grid_search.best_params_\n",
    "print(\"best acc \", round(best_acc*100, 3))\n",
    "print(\"best params \", best_params)\n",
    "\n",
    "#Train the model using the training sets\n",
    "clf.fit(X_train, y_train)\n",
    "\n",
    "#Predict the response for test dataset\n",
    "linear_disc_analysis_m = linear_disc_analysis_gs.predict(X_test)\n",
    "\n",
    "####################\n",
    "# Model Evaluation #\n",
    "####################\n",
    "print ('Model Evaluation')\n",
    "# Model Accuracy: how often is the classifier correct\n",
    "print(\"Model Accuracy:\", round(metrics.accuracy_score(y_test, linear_disc_analysis_m), 3))\n",
    "# Model Precision: what percentage of positive tuples are labeled as such\n",
    "print(\"Model Precision:\", round(metrics.precision_score(y_test, linear_disc_analysis_m), 3))\n",
    "# Model Recall: what percentage of positive tuples are labelled as such\n",
    "print(\"Model Recall:\", round(metrics.recall_score(y_test, linear_disc_analysis_m), 3))\n",
    "# Calculate metrics for each label, and find their unweighted mean. This does not take label imbalance into account.\n",
    "print('F1 Score: ', round(f1_score(y_test, linear_disc_analysis_m, average=\"macro\"), 3))\n",
    "\n",
    "print('Cohens Kappa :', round(cohen_kappa_score(y_test , linear_disc_analysis_m), 3))\n",
    "# Combination of Accuracy, Precision, Recall \n",
    "print(\"Classification Report :\\n\", classification_report(y_test, linear_disc_analysis_m))\n",
    "\n",
    "cvs = cross_val_score(clf, data, labels, cv=10)\n",
    "\n",
    "print('K-fold Cross Validation scores:')\n",
    "print('Max Score: ', round(max(cvs), 3))\n",
    "print('Min Score: ', round(min(cvs), 3))\n",
    "print('Mean Score :', round(mean(cvs), 3))\n",
    "\n",
    "\n",
    "##############################\n",
    "# Testing model on test data #\n",
    "##############################\n",
    "\n",
    "X_test, y_test = train_test_split(test_data_df, test_size=1, random_state=25)\n",
    "linear_disc_analysis_m = linear_disc_analysis_gs.predict(test_data_df)\n",
    "# probability preformed really bad, so i think 0 or 1 is a better \n",
    "# y_predict_proba = clf.predict_proba(test_data_df)\n",
    "submition_csv['Probability'] = linear_disc_analysis_m\n",
    "submition_csv\n",
    "submition_csv.to_csv('linear_disc_analysis_m_submition.csv', index=False)\n"
   ]
  },
  {
   "cell_type": "markdown",
   "metadata": {},
   "source": [
    "### Learn Rate LDA\n",
    "- [Back To Top](#Index)\n",
    "- [Models](#Models)\n",
    "- [Top of LinearDiscriminantAnalysis](#LinearDiscriminantAnalysis)"
   ]
  },
  {
   "cell_type": "code",
   "execution_count": null,
   "metadata": {},
   "outputs": [],
   "source": [
    "# Learn rate Curve\n",
    "# uses k-cross validation = 5 by default\n",
    "train_sizes, train_scores, test_scores = learning_curve(estimator = linear_disc_analysis_gs, \n",
    "                                                        X = data, \n",
    "                                                        y = labels,\n",
    "                                                        cv=10,\n",
    "                                                        scoring='accuracy',\n",
    "                                                        n_jobs=-1)\n",
    "\n",
    "plt.plot(train_sizes, np.mean(train_scores, axis=1))\n",
    "plt.title(\"Learn Curve for LinearDiscriminantAnalysis Model\")\n",
    "plt.xlabel(\"Experiance Gained\")\n",
    "plt.ylabel(\"Accuracy Score\")"
   ]
  },
  {
   "cell_type": "markdown",
   "metadata": {},
   "source": [
    "The Diagram above shows that improvements can be made and that the training process could continue given more data was available."
   ]
  },
  {
   "cell_type": "markdown",
   "metadata": {},
   "source": [
    "### ROC-LDA\n",
    "- [Back To Top](#Index)\n",
    "- [Models](#Models)\n",
    "- [Top of LinearDiscriminantAnalysis](#LinearDiscriminantAnalysis)"
   ]
  },
  {
   "cell_type": "code",
   "execution_count": 20,
   "metadata": {},
   "outputs": [
    {
     "data": {
      "image/png": "[encoded data removed]",
      "text/plain": [
       "<Figure size 432x288 with 1 Axes>"
      ]
     },
     "metadata": {
      "needs_background": "light"
     },
     "output_type": "display_data"
    }
   ],
   "source": [
    "X_train, X_test, y_train, y_test = train_test_split(data, labels, \n",
    "                                                    test_size=0.3, \n",
    "                                                    random_state=25) \n",
    "clf = LinearDiscriminantAnalysis()\n",
    "clf.fit(X_train,y_train)\n",
    "m_randomForest = linear_disc_analysis_gs.predict(X_test)\n",
    "\n",
    "fpr, tpr, threshold = metrics.roc_curve(y_test, m_randomForest)\n",
    "roc_auc = metrics.auc(fpr, tpr)\n",
    "plt.title('Receiver Operating Characteristic')\n",
    "plt.plot(fpr, tpr, 'b', label = 'AUC = %0.2f' % roc_auc)\n",
    "plt.legend(loc = 'lower right')\n",
    "plt.plot([0, 1], [0, 1],'r--')\n",
    "plt.xlim([0, 1])\n",
    "plt.ylim([0, 1])\n",
    "plt.ylabel('True Positive Rate')\n",
    "plt.xlabel('False Positive Rate')\n",
    "plt.show()"
   ]
  },
  {
   "cell_type": "markdown",
   "metadata": {},
   "source": [
    "# Test Bench\n",
    "- Kaggle best 0.0%\n",
    "- [Back To Top](#Index)\n",
    "- [Models](#Models)"
   ]
  },
  {
   "cell_type": "code",
   "execution_count": 108,
   "metadata": {},
   "outputs": [
    {
     "name": "stdout",
     "output_type": "stream",
     "text": [
      "Model Evaluation\n"
     ]
    }
   ],
   "source": [
    "#from sklearn.model_selection import GridSearchCV\n",
    "#clf = GridSearchCV(MLPClassifier(), param_grid, cv=3,                          scoring='accuracy')\n",
    "#clf.fit(X,y)\n",
    "# https://scikit-learn.org/stable/modules/generated/sklearn.model_selection.GridSearchCV.html\n",
    "#print(\"Best parameters set found on development set:\")\n",
    "#print(clf.best_params_)\n",
    "###########################\n",
    "#  Model -  #\n",
    "###########################\n",
    "\n",
    "X_train, X_test, y_train, y_test = train_test_split(data, labels, test_size= 0.3, random_state=5)\n",
    "\n",
    "clf = MLPClassifier(solver='lbfgs', alpha=1e-5, hidden_layer_sizes=(5, 2), random_state=1)\n",
    "\n",
    "clf.fit(X_train, y_train)\n",
    "m_test = mlp.predict(test_data_df)\n",
    "\n",
    "####################\n",
    "# Model Evaluation #\n",
    "####################\n",
    "print ('Model Evaluation')\n",
    "\n",
    "\n",
    "\n",
    "\n",
    "submition_csv['Probability'] = m_test\n",
    "submition_csv.loc[submition_csv['Probability'] == -1, 'Probability'] = 0\n",
    "submition_csv.to_csv('test_submition.csv', index=False)"
   ]
  }
 ],
 "metadata": {
  "kernelspec": {
   "display_name": "Python 3",
   "language": "python",
   "name": "python3"
  },
  "language_info": {
   "codemirror_mode": {
    "name": "ipython",
    "version": 3
   },
   "file_extension": ".py",
   "mimetype": "text/x-python",
   "name": "python",
   "nbconvert_exporter": "python",
   "pygments_lexer": "ipython3",
   "version": "3.8.5"
  }
 },
 "nbformat": 4,
 "nbformat_minor": 4
}
