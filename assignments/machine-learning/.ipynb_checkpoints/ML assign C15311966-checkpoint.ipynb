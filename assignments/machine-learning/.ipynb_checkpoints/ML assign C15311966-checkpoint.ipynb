{
 "cells": [
  {
   "cell_type": "markdown",
   "metadata": {},
   "source": [
    "# Due data 30th April, Friday\n"
   ]
  },
  {
   "cell_type": "markdown",
   "metadata": {},
   "source": [
    "# Index\n",
    "* [Project Setup](#Setup)\n",
    "  * [Loading Data](#Loading-Data)\n",
    "  * [Data Preprocessing](#Data-Preperation)\n",
    "  * [Quick Setup](#Start-Here---Personal-Setup)\n",
    "* [Model Training](#Models)\n",
    "  * [SVM](#SVM)\n",
    "  * [Random Forest](#Random-Forest)\n",
    "  * [Neural Network](#Neural-Network)\n",
    "* [Model Evaluation Visualisations](#Model-Evaluation-Visualisations)\n",
    "    * [Roc](#Roc)\n",
    "    * [Learn Rate](#Learn-Rate)\n",
    "    * [idk](#idk)\n",
    "    * [idk2](#idk2)"
   ]
  },
  {
   "cell_type": "markdown",
   "metadata": {},
   "source": [
    "# Setup"
   ]
  },
  {
   "cell_type": "code",
   "execution_count": 148,
   "metadata": {},
   "outputs": [],
   "source": [
    "import matplotlib.pyplot as plt\n",
    "import seaborn as sns\n",
    "import sklearn\n",
    "import pandas as pd\n",
    "import numpy as np\n",
    "\n",
    "from sklearn import preprocessing\n",
    "from sklearn.preprocessing import StandardScaler\n",
    "\n",
    "from sklearn import metrics\n",
    "from sklearn.model_selection import cross_val_score, cross_validate, train_test_split, learning_curve\n",
    "from sklearn.metrics import classification_report, confusion_matrix, f1_score, make_scorer, cohen_kappa_score\n",
    "from statistics import mean\n",
    "\n",
    "from sklearn.utils.multiclass import unique_labels\n",
    "\n",
    "from sklearn import svm\n",
    "from sklearn.svm import SVC\n",
    "from sklearn.linear_model import LogisticRegression\n",
    "from sklearn.ensemble import RandomForestClassifier\n",
    "from sklearn.discriminant_analysis import LinearDiscriminantAnalysis\n",
    "from sklearn.neural_network import MLPClassifier "
   ]
  },
  {
   "cell_type": "markdown",
   "metadata": {},
   "source": [
    "# Loading Data\n",
    "- [Back To Top](#Index)"
   ]
  },
  {
   "cell_type": "code",
   "execution_count": 2,
   "metadata": {},
   "outputs": [
    {
     "name": "stdout",
     "output_type": "stream",
     "text": [
      "Data load complete\n"
     ]
    }
   ],
   "source": [
    "# load data for train split instead\n",
    "train_FNC = pd.read_csv('../../../../mlsp-2014-mri/Train/train_FNC.csv', delimiter=',')\n",
    "train_SBM = pd.read_csv('../../../../mlsp-2014-mri/Train/train_SBM.csv', delimiter=',')\n",
    "train_labels = pd.read_csv(  '../../../../mlsp-2014-mri/Train/train_labels.csv', delimiter=',')\n",
    "\n",
    "test_FNC = pd.read_csv('../../../../mlsp-2014-mri/Test/test_FNC.csv', delimiter=',')\n",
    "test_SBM = pd.read_csv('../../../../mlsp-2014-mri/Test/test_SBM.csv', delimiter=',')\n",
    "print('Data load complete')"
   ]
  },
  {
   "cell_type": "markdown",
   "metadata": {},
   "source": [
    "# Data Preperation\n",
    "- [Back To Top](#Index)"
   ]
  },
  {
   "cell_type": "code",
   "execution_count": 90,
   "metadata": {},
   "outputs": [
    {
     "name": "stdout",
     "output_type": "stream",
     "text": [
      "done\n"
     ]
    }
   ],
   "source": [
    "# Merge data\n",
    "# Train data\n",
    "data = pd.merge(train_FNC, train_SBM)\n",
    "data_2 = pd.merge(data, train_labels)\n",
    "data_2.to_csv('amalgamated_train_data.csv', index=False)\n",
    "train_data = pd.read_csv('../../../../mlsp-2014-mri/assign_data/amalgamated_train_data.csv', delimiter=',')\n",
    "\n",
    "# Test data\n",
    "test_data = pd.merge(test_FNC, test_SBM)\n",
    "test_data.to_csv('amalgamated_test_data.csv', index=False)\n",
    "print('done')\n",
    "# had to remove index in R because python apparently cant do that \n",
    "# R code below \n",
    "# data = read.csv(\"mlsp-2014-mri/amalgamated_train_data.csv\", as.is=T, header=T, sep=\",\")\n",
    "# write.csv(data[,-1], 'mlsp-2014-mri/assign_data/amalgamated_train_data.csv', row.names = F)\n",
    "\n",
    "# data = read.csv(\"mlsp-2014-mri/amalgamated_test_data.csv\", as.is=T, header=T, sep=\",\")\n",
    "# write.csv(data[,-1], 'mlsp-2014-mri/assign_data/amalgamated_test_data.csv', row.names = F)"
   ]
  },
  {
   "cell_type": "markdown",
   "metadata": {},
   "source": [
    "# Start Here - Personal Setup \n",
    "- [Back To Top](#Index)"
   ]
  },
  {
   "cell_type": "code",
   "execution_count": 3,
   "metadata": {},
   "outputs": [
    {
     "name": "stdout",
     "output_type": "stream",
     "text": [
      "Data load & setup complete\n"
     ]
    }
   ],
   "source": [
    "# This cell just loads data and prepares it so i can run models using it #\n",
    "\n",
    "# load data\n",
    "train_data = pd.read_csv('../../../../mlsp-2014-mri/assign_data/amalgamated_train_data.csv', delimiter=',', index_col=False)\n",
    "test_data = pd.read_csv('../../../../mlsp-2014-mri/assign_data/amalgamated_test_data.csv', delimiter=',', index_col=False)\n",
    "# convert test data to df from numpy array\n",
    "test_data_df = pd.DataFrame(test_data)\n",
    "\n",
    "# Prepare values for training data\n",
    "labels = train_data.pop('Class').values\n",
    "data = train_data.values\n",
    "\n",
    "# load data for submition\n",
    "submition_csv = pd.read_csv(  '../../../../mlsp-2014-mri/submission_example.csv', delimiter=',')\n",
    "scaler = StandardScaler()\n",
    "\n",
    "print('Data load & setup complete')"
   ]
  },
  {
   "cell_type": "markdown",
   "metadata": {},
   "source": [
    "# Models"
   ]
  },
  {
   "cell_type": "markdown",
   "metadata": {},
   "source": [
    "* [Back To Top](#Index)\n",
    "    * [SVM - 83.9%](#SVM)\n",
    "    * [Random Forest - 73%](#Random-Forest)\n",
    "    * [Neural Network - 0.0%](#Neural-Network)\n",
    "    * [LinearDiscriminantAnalysis Model - 0.0%](#LinearDiscriminantAnalysis-Model)"
   ]
  },
  {
   "cell_type": "markdown",
   "metadata": {},
   "source": [
    "# SVM\n",
    "\n",
    "- SVM Model - Kaggle best 85.6% \n",
    "- [Back To Top](#Index)\n",
    "- [Models](#Models)"
   ]
  },
  {
   "cell_type": "code",
   "execution_count": null,
   "metadata": {},
   "outputs": [],
   "source": [
    "# I tried using this to find a better random_state but \n",
    "# I couldnt retrieve the number\n",
    "# Private score 0.82820\n",
    "# Public score 0.83928\n",
    "\n",
    "# from sklearn.utils import check_random_state\n",
    "best_acc = 0\n",
    "# best_state = 0\n",
    "# removed random_state=109\n",
    "for _ in range(100):\n",
    "    # Split dataset into training set and test set\n",
    "    X_train, X_test, y_train, y_test = train_test_split(data, labels, test_size=0.3) \n",
    "    # 70% training and 30% test\n",
    "    # Create a svm Classifier\n",
    "    clf = svm.SVC(kernel='sigmoid') # Best Kernel was Sigmoid \n",
    "    #Train the model using the training sets\n",
    "    clf.fit(X_train, y_train)\n",
    "    #Predict the response for test dataset\n",
    "    acc = clf.score(X_train, y_train)\n",
    "    state = check_random_state(clf.random_state)\n",
    "    # print(acc)\n",
    "    if acc > best_acc:  \n",
    "        best_acc = acc\n",
    "        # best_state = state\n",
    "        m_svm = clf.predict(X_test)    \n",
    "# print('state: ', state)    \n",
    "print('best: ', best_acc)\n"
   ]
  },
  {
   "cell_type": "code",
   "execution_count": 137,
   "metadata": {},
   "outputs": [
    {
     "name": "stdout",
     "output_type": "stream",
     "text": [
      "Model Evaluation\n",
      "Model Accuracy: 0.808\n",
      "Model Precision: 0.9\n",
      "Model Recall: 0.692\n",
      "F1 Score:  0.805\n",
      "Cohens Kappa : 0.615\n",
      "Classification Report :\n",
      "               precision    recall  f1-score   support\n",
      "\n",
      "           0       0.75      0.92      0.83        13\n",
      "           1       0.90      0.69      0.78        13\n",
      "\n",
      "    accuracy                           0.81        26\n",
      "   macro avg       0.82      0.81      0.81        26\n",
      "weighted avg       0.83      0.81      0.81        26\n",
      "\n",
      "K-fold Cross Validation scores:\n",
      "Max Score:  0.889\n",
      "Min Score:  0.556\n",
      "Mean Score : 0.768\n"
     ]
    }
   ],
   "source": [
    "# after toying around with trying to get the random state var \n",
    "# I used binary searchs logic to find 104 as being the best, \n",
    "# I assume there would be a better/more elegant way of doing this\n",
    "\n",
    "# Split dataset into training set and test set\n",
    "X_train, X_test, y_train, y_test = train_test_split(data, labels, \n",
    "                                                    test_size=0.3, \n",
    "                                                    random_state=104) \n",
    "# 70% training and 30% test\n",
    "# Create a svm Classifier\n",
    "clf = svm.SVC(kernel='sigmoid') # Best Kernel was Sigmoid \n",
    "#Train the model using the training sets\n",
    "clf.fit(X_train, y_train)\n",
    "#Predict the response for test dataset\n",
    "clf.score(X_train, y_train)\n",
    "m_svm = clf.predict(X_test) \n",
    "\n",
    "    \n",
    "####################\n",
    "# Model Evaluation #\n",
    "####################\n",
    "print ('Model Evaluation')\n",
    "# Model Accuracy: how often is the classifier correct\n",
    "print(\"Model Accuracy:\", round(metrics.accuracy_score(y_test, m_svm), 3))\n",
    "# Model Precision: what percentage of positive tuples are labeled as such\n",
    "print(\"Model Precision:\", round(metrics.precision_score(y_test, m_svm), 3))\n",
    "# Model Recall: what percentage of positive tuples are labelled as such\n",
    "print(\"Model Recall:\", round(metrics.recall_score(y_test, m_svm), 3))\n",
    "# Calculate metrics for each label, and find their unweighted mean. This does not take label imbalance into account.\n",
    "print('F1 Score: ', round(f1_score(y_test, m_svm, average=\"macro\"), 3))\n",
    "\n",
    "print('Cohens Kappa :', round(cohen_kappa_score(y_test , m_svm), 3))\n",
    "# Combination of Accuracy, Precision, Recall \n",
    "print(\"Classification Report :\\n\", classification_report(y_test,m_svm))\n",
    "\n",
    "cvs = cross_val_score(clf, data, labels, cv=10)\n",
    "\n",
    "print('K-fold Cross Validation scores:')\n",
    "print('Max Score: ', round(max(cvs), 3))\n",
    "print('Min Score: ', round(min(cvs), 3))\n",
    "print('Mean Score :', round(mean(cvs), 3))\n",
    "\n",
    "##############################\n",
    "# Testing model on test data #\n",
    "##############################\n",
    "\n",
    "X_test, y_test = train_test_split(test_data_df, test_size=1, random_state=109) # 70% training and 30% testprint(\"after split check\", len(X_test),  len(y_test))\n",
    "m_svm = clf.predict(test_data_df)\n",
    "# probability preformed really bad, so i think 0 or 1 is a better \n",
    "# y_predict_proba = clf.predict_proba(test_data_df)\n",
    "submition_csv['Probability'] = m_svm\n",
    "submition_csv.to_csv('m_svm_submition.csv', index=False)"
   ]
  },
  {
   "cell_type": "code",
   "execution_count": 140,
   "metadata": {},
   "outputs": [
    {
     "data": {
      "image/png": "[encoded data removed]",
      "text/plain": [
       "<Figure size 432x288 with 1 Axes>"
      ]
     },
     "metadata": {
      "needs_background": "light"
     },
     "output_type": "display_data"
    }
   ],
   "source": [
    "X_train, X_test, y_train, y_test = train_test_split(data, labels, \n",
    "                                                    test_size=0.3, \n",
    "                                                    random_state=104) \n",
    "m_svm = clf.predict(X_test)\n",
    "\n",
    "fpr, tpr, threshold = metrics.roc_curve(y_test, m_svm)\n",
    "roc_auc = metrics.auc(fpr, tpr)\n",
    "plt.title('Receiver Operating Characteristic')\n",
    "plt.plot(fpr, tpr, 'b', label = 'AUC = %0.2f' % roc_auc)\n",
    "plt.legend(loc = 'lower right')\n",
    "plt.plot([0, 1], [0, 1],'r--')\n",
    "plt.xlim([0, 1])\n",
    "plt.ylim([0, 1])\n",
    "plt.ylabel('True Positive Rate')\n",
    "plt.xlabel('False Positive Rate')\n",
    "plt.show()"
   ]
  },
  {
   "cell_type": "code",
   "execution_count": 142,
   "metadata": {},
   "outputs": [
    {
     "data": {
      "text/plain": [
       "Text(0, 0.5, 'Accuracy Score')"
      ]
     },
     "execution_count": 142,
     "metadata": {},
     "output_type": "execute_result"
    },
    {
     "data": {
      "image/png": "[encoded data removed]",
      "text/plain": [
       "<Figure size 432x288 with 1 Axes>"
      ]
     },
     "metadata": {
      "needs_background": "light"
     },
     "output_type": "display_data"
    }
   ],
   "source": [
    "# Learn rate Curve\n",
    "# uses k-cross validation = 5 by default\n",
    "train_sizes, train_scores, test_scores = learning_curve(estimator = SVC(), \n",
    "                                                        X = data, \n",
    "                                                        y = labels,\n",
    "                                                        cv=5,\n",
    "                                                        scoring='accuracy',\n",
    "                                                        n_jobs=-1)\n",
    "\n",
    "plt.plot(train_sizes, np.mean(train_scores, axis=1))\n",
    "plt.title(\"Learn Curve for SVM Model\")\n",
    "plt.xlabel(\"Training Set Size\")\n",
    "plt.ylabel(\"Accuracy Score\")"
   ]
  },
  {
   "cell_type": "code",
   "execution_count": null,
   "metadata": {},
   "outputs": [],
   "source": [
    "# Interpretation of Results \n",
    "It seems that "
   ]
  },
  {
   "cell_type": "markdown",
   "metadata": {},
   "source": [
    "# SVM - Feature Selection\n",
    "- finish this\n",
    "- [Back To Top](#Index)\n",
    "- [Models](#Models)"
   ]
  },
  {
   "cell_type": "code",
   "execution_count": 177,
   "metadata": {},
   "outputs": [
    {
     "ename": "ValueError",
     "evalue": "Number of features of the model must match the input. Model n_features is 86 and input n_features is 410 ",
     "output_type": "error",
     "traceback": [
      "\u001b[1;31m---------------------------------------------------------------------------\u001b[0m",
      "\u001b[1;31mValueError\u001b[0m                                Traceback (most recent call last)",
      "\u001b[1;32m<ipython-input-177-1775015d7634>\u001b[0m in \u001b[0;36m<module>\u001b[1;34m\u001b[0m\n\u001b[0;32m      4\u001b[0m \u001b[1;33m\u001b[0m\u001b[0m\n\u001b[0;32m      5\u001b[0m \u001b[1;31m#Predict the response for test dataset\u001b[0m\u001b[1;33m\u001b[0m\u001b[1;33m\u001b[0m\u001b[1;33m\u001b[0m\u001b[0m\n\u001b[1;32m----> 6\u001b[1;33m \u001b[0my_pred\u001b[0m \u001b[1;33m=\u001b[0m \u001b[0mclf\u001b[0m\u001b[1;33m.\u001b[0m\u001b[0mpredict\u001b[0m\u001b[1;33m(\u001b[0m\u001b[0mX_test\u001b[0m\u001b[1;33m)\u001b[0m\u001b[1;33m\u001b[0m\u001b[1;33m\u001b[0m\u001b[0m\n\u001b[0m\u001b[0;32m      7\u001b[0m \u001b[0msc\u001b[0m \u001b[1;33m=\u001b[0m \u001b[0mStandardScaler\u001b[0m\u001b[1;33m(\u001b[0m\u001b[1;33m)\u001b[0m\u001b[1;33m\u001b[0m\u001b[1;33m\u001b[0m\u001b[0m\n\u001b[0;32m      8\u001b[0m \u001b[0mx_train\u001b[0m \u001b[1;33m=\u001b[0m \u001b[0msc\u001b[0m\u001b[1;33m.\u001b[0m\u001b[0mfit_transform\u001b[0m\u001b[1;33m(\u001b[0m\u001b[0mX_train\u001b[0m\u001b[1;33m)\u001b[0m\u001b[1;33m\u001b[0m\u001b[1;33m\u001b[0m\u001b[0m\n",
      "\u001b[1;32m~\\anaconda3\\lib\\site-packages\\sklearn\\ensemble\\_forest.py\u001b[0m in \u001b[0;36mpredict\u001b[1;34m(self, X)\u001b[0m\n\u001b[0;32m    627\u001b[0m             \u001b[0mThe\u001b[0m \u001b[0mpredicted\u001b[0m \u001b[0mclasses\u001b[0m\u001b[1;33m.\u001b[0m\u001b[1;33m\u001b[0m\u001b[1;33m\u001b[0m\u001b[0m\n\u001b[0;32m    628\u001b[0m         \"\"\"\n\u001b[1;32m--> 629\u001b[1;33m         \u001b[0mproba\u001b[0m \u001b[1;33m=\u001b[0m \u001b[0mself\u001b[0m\u001b[1;33m.\u001b[0m\u001b[0mpredict_proba\u001b[0m\u001b[1;33m(\u001b[0m\u001b[0mX\u001b[0m\u001b[1;33m)\u001b[0m\u001b[1;33m\u001b[0m\u001b[1;33m\u001b[0m\u001b[0m\n\u001b[0m\u001b[0;32m    630\u001b[0m \u001b[1;33m\u001b[0m\u001b[0m\n\u001b[0;32m    631\u001b[0m         \u001b[1;32mif\u001b[0m \u001b[0mself\u001b[0m\u001b[1;33m.\u001b[0m\u001b[0mn_outputs_\u001b[0m \u001b[1;33m==\u001b[0m \u001b[1;36m1\u001b[0m\u001b[1;33m:\u001b[0m\u001b[1;33m\u001b[0m\u001b[1;33m\u001b[0m\u001b[0m\n",
      "\u001b[1;32m~\\anaconda3\\lib\\site-packages\\sklearn\\ensemble\\_forest.py\u001b[0m in \u001b[0;36mpredict_proba\u001b[1;34m(self, X)\u001b[0m\n\u001b[0;32m    671\u001b[0m         \u001b[0mcheck_is_fitted\u001b[0m\u001b[1;33m(\u001b[0m\u001b[0mself\u001b[0m\u001b[1;33m)\u001b[0m\u001b[1;33m\u001b[0m\u001b[1;33m\u001b[0m\u001b[0m\n\u001b[0;32m    672\u001b[0m         \u001b[1;31m# Check data\u001b[0m\u001b[1;33m\u001b[0m\u001b[1;33m\u001b[0m\u001b[1;33m\u001b[0m\u001b[0m\n\u001b[1;32m--> 673\u001b[1;33m         \u001b[0mX\u001b[0m \u001b[1;33m=\u001b[0m \u001b[0mself\u001b[0m\u001b[1;33m.\u001b[0m\u001b[0m_validate_X_predict\u001b[0m\u001b[1;33m(\u001b[0m\u001b[0mX\u001b[0m\u001b[1;33m)\u001b[0m\u001b[1;33m\u001b[0m\u001b[1;33m\u001b[0m\u001b[0m\n\u001b[0m\u001b[0;32m    674\u001b[0m \u001b[1;33m\u001b[0m\u001b[0m\n\u001b[0;32m    675\u001b[0m         \u001b[1;31m# Assign chunk of trees to jobs\u001b[0m\u001b[1;33m\u001b[0m\u001b[1;33m\u001b[0m\u001b[1;33m\u001b[0m\u001b[0m\n",
      "\u001b[1;32m~\\anaconda3\\lib\\site-packages\\sklearn\\ensemble\\_forest.py\u001b[0m in \u001b[0;36m_validate_X_predict\u001b[1;34m(self, X)\u001b[0m\n\u001b[0;32m    419\u001b[0m         \u001b[0mcheck_is_fitted\u001b[0m\u001b[1;33m(\u001b[0m\u001b[0mself\u001b[0m\u001b[1;33m)\u001b[0m\u001b[1;33m\u001b[0m\u001b[1;33m\u001b[0m\u001b[0m\n\u001b[0;32m    420\u001b[0m \u001b[1;33m\u001b[0m\u001b[0m\n\u001b[1;32m--> 421\u001b[1;33m         \u001b[1;32mreturn\u001b[0m \u001b[0mself\u001b[0m\u001b[1;33m.\u001b[0m\u001b[0mestimators_\u001b[0m\u001b[1;33m[\u001b[0m\u001b[1;36m0\u001b[0m\u001b[1;33m]\u001b[0m\u001b[1;33m.\u001b[0m\u001b[0m_validate_X_predict\u001b[0m\u001b[1;33m(\u001b[0m\u001b[0mX\u001b[0m\u001b[1;33m,\u001b[0m \u001b[0mcheck_input\u001b[0m\u001b[1;33m=\u001b[0m\u001b[1;32mTrue\u001b[0m\u001b[1;33m)\u001b[0m\u001b[1;33m\u001b[0m\u001b[1;33m\u001b[0m\u001b[0m\n\u001b[0m\u001b[0;32m    422\u001b[0m \u001b[1;33m\u001b[0m\u001b[0m\n\u001b[0;32m    423\u001b[0m     \u001b[1;33m@\u001b[0m\u001b[0mproperty\u001b[0m\u001b[1;33m\u001b[0m\u001b[1;33m\u001b[0m\u001b[0m\n",
      "\u001b[1;32m~\\anaconda3\\lib\\site-packages\\sklearn\\tree\\_classes.py\u001b[0m in \u001b[0;36m_validate_X_predict\u001b[1;34m(self, X, check_input)\u001b[0m\n\u001b[0;32m    394\u001b[0m         \u001b[0mn_features\u001b[0m \u001b[1;33m=\u001b[0m \u001b[0mX\u001b[0m\u001b[1;33m.\u001b[0m\u001b[0mshape\u001b[0m\u001b[1;33m[\u001b[0m\u001b[1;36m1\u001b[0m\u001b[1;33m]\u001b[0m\u001b[1;33m\u001b[0m\u001b[1;33m\u001b[0m\u001b[0m\n\u001b[0;32m    395\u001b[0m         \u001b[1;32mif\u001b[0m \u001b[0mself\u001b[0m\u001b[1;33m.\u001b[0m\u001b[0mn_features_\u001b[0m \u001b[1;33m!=\u001b[0m \u001b[0mn_features\u001b[0m\u001b[1;33m:\u001b[0m\u001b[1;33m\u001b[0m\u001b[1;33m\u001b[0m\u001b[0m\n\u001b[1;32m--> 396\u001b[1;33m             raise ValueError(\"Number of features of the model must \"\n\u001b[0m\u001b[0;32m    397\u001b[0m                              \u001b[1;34m\"match the input. Model n_features is %s and \"\u001b[0m\u001b[1;33m\u001b[0m\u001b[1;33m\u001b[0m\u001b[0m\n\u001b[0;32m    398\u001b[0m                              \u001b[1;34m\"input n_features is %s \"\u001b[0m\u001b[1;33m\u001b[0m\u001b[1;33m\u001b[0m\u001b[0m\n",
      "\u001b[1;31mValueError\u001b[0m: Number of features of the model must match the input. Model n_features is 86 and input n_features is 410 "
     ]
    }
   ],
   "source": [
    "# Split dataset into training set and test set\n",
    "X_train, X_test, y_train, y_test = train_test_split(data, labels, test_size=0.3, random_state=100) \n",
    "# 70% training and 30% test\n",
    "\n",
    "#Predict the response for test dataset\n",
    "y_pred = clf.predict(X_test)\n",
    "sc = StandardScaler()\n",
    "x_train = sc.fit_transform(X_train)\n",
    "x_test = sc.transform(X_test)\n",
    "\n",
    "\n",
    "# Fitting logistic regression to the training set\n",
    "Classifier = LogisticRegression(random_state=0)\n",
    "Classifier.fit(x_train, y_train)\n",
    "# get values, returns a series object with index and keys fields, more can be found \n",
    "# here https://pandas.pydata.org/docs/reference/api/pandas.Series.keys.html\n",
    "\n",
    "feature_imp = pd.Series(clf.feature_importances_,index=train_data.columns).sort_values(ascending=False)\n",
    "\n",
    "# keep top 10 values\n",
    "top_ten_features = feature_imp.nlargest(10, keep='all')\n",
    "top_ten_features\n",
    "# print(top_ten_features.keys())\n",
    "\n",
    "%matplotlib inline\n",
    "# Creating a bar plot\n",
    "sns.barplot(x=top_ten_features, y=top_ten_features.index)\n",
    "# labels\n",
    "plt.xlabel('Feature Importance Score')\n",
    "plt.ylabel('Features')\n",
    "plt.title(\"Visualizing Important Features\")\n",
    "# the legend works but takes up space and isnt needed\n",
    "# plt.legend(top_ten_features.keys())\n",
    "plt.show()\n",
    "\n",
    "# Im not sure what these features are specifically \n",
    "\n",
    "####################\n",
    "# Model Evaluation #\n",
    "####################\n",
    "print ('Model Evaluation')\n",
    "# Model Accuracy: how often is the classifier correct\n",
    "print(\"Model Accuracy:\", round(metrics.accuracy_score(y_test, m_randomForest), 3))\n",
    "# Model Precision: what percentage of positive tuples are labeled as such\n",
    "print(\"Model Precision:\", round(metrics.precision_score(y_test, m_randomForest), 3))\n",
    "# Model Recall: what percentage of positive tuples are labelled as such\n",
    "print(\"Model Recall:\", round(metrics.recall_score(y_test, m_randomForest), 3))\n",
    "# Calculate metrics for each label, and find their unweighted mean. This does not take label imbalance into account.\n",
    "print('F1 Score: ', round(f1_score(y_test, m_randomForest, average=\"macro\"), 3))\n",
    "\n",
    "print('Cohens Kappa :', round(cohen_kappa_score(y_test , m_randomForest), 3))\n",
    "# Combination of Accuracy, Precision, Recall \n",
    "print(\"Classification Report :\\n\", classification_report(y_test, m_randomForest))\n",
    "\n",
    "cvs= cross_val_score(clf, data, labels, cv=10)\n",
    "\n",
    "print('K-fold Cross Validation scores:')\n",
    "print('Max Score: ', round(max(cvs), 3))\n",
    "print('Min Score: ', round(min(cvs), 3))\n",
    "print('Mean Score :', round(mean(cvs), 3))\n",
    "\n",
    "\n",
    "##############################\n",
    "# Testing model on test data #\n",
    "##############################\n",
    "\n",
    "X_test, y_test = train_test_split(test_data_df[top_ten_labels].transpose(), test_size=0.3, random_state=114) # 70% training and 30% testprint(\"after split check\", len(X_test),  len(y_test))\n",
    "y_pred = clf.predict(X_test)\n",
    "# probability preformed really bad, so i think 0 or 1 is a better \n",
    "# y_predict_proba = clf.predict_proba(test_data_df)\n",
    "submition_csv['Probability'] = y_pred\n",
    "submition_csv\n",
    "submition_csv.to_csv('test_submition.csv', index=False)\n",
    "\n",
    "top_ten_labels = train_data[top_ten_features.keys()].keys()\n",
    "top_ten_data = train_data[top_ten_features.keys()].values.transpose()\n",
    "print(top_ten_data.shape)\n",
    "print(top_ten_labels.shape)\n",
    "print(test_data_df.shape)\n",
    "print(test_data_df[top_ten_labels].transpose().shape)\n",
    "test_data_df[top_ten_labels]"
   ]
  },
  {
   "cell_type": "markdown",
   "metadata": {},
   "source": [
    "# Random Forest \n",
    "- Kaggle best 73%\n",
    "- [Back To Top](#Index)\n",
    "- [Models](#Models)"
   ]
  },
  {
   "cell_type": "code",
   "execution_count": 227,
   "metadata": {},
   "outputs": [
    {
     "name": "stdout",
     "output_type": "stream",
     "text": [
      "Model Evaluation\n",
      "Model Accuracy: 0.808\n",
      "Model Precision: 0.8\n",
      "Model Recall: 0.727\n",
      "F1 Score:  0.8\n",
      "Cohens Kappa : 0.601\n",
      "Classification Report :\n",
      "               precision    recall  f1-score   support\n",
      "\n",
      "           0       0.81      0.87      0.84        15\n",
      "           1       0.80      0.73      0.76        11\n",
      "\n",
      "    accuracy                           0.81        26\n",
      "   macro avg       0.81      0.80      0.80        26\n",
      "weighted avg       0.81      0.81      0.81        26\n",
      "\n",
      "K-fold Cross Validation scores:\n",
      "Max Score:  0.889\n",
      "Min Score:  0.556\n",
      "Mean Score : 0.711\n"
     ]
    }
   ],
   "source": [
    "# random state yielded the best local result\n",
    "X_train, X_test, y_train, y_test = train_test_split(data, labels, \n",
    "                                                    test_size=0.3, \n",
    "                                                    random_state=100)\n",
    "\n",
    "#Create a Gaussian Classifier\n",
    "clf=RandomForestClassifier(bootstrap=True, class_weight=None, criterion='entropy',\n",
    "            max_depth=None, max_features='auto', max_leaf_nodes=None,\n",
    "            min_impurity_decrease=0.0, min_impurity_split=None,\n",
    "            min_samples_leaf=1, min_samples_split=2,\n",
    "            min_weight_fraction_leaf=0.0, n_estimators=100, n_jobs=1,\n",
    "            oob_score=False, random_state=None, verbose=0,\n",
    "            warm_start=False)\n",
    "clf.fit(X_train,y_train)\n",
    "\n",
    "m_random_forest = clf.predict(X_test)\n",
    "\n",
    "####################\n",
    "# Model Evaluation #\n",
    "####################\n",
    "print ('Model Evaluation')\n",
    "# Model Accuracy: how often is the classifier correct\n",
    "print(\"Model Accuracy:\", round(metrics.accuracy_score(y_test, m_random_forest), 3))\n",
    "# Model Precision: what percentage of positive tuples are labeled as such\n",
    "print(\"Model Precision:\", round(metrics.precision_score(y_test, m_random_forest), 3))\n",
    "# Model Recall: what percentage of positive tuples are labelled as such\n",
    "print(\"Model Recall:\", round(metrics.recall_score(y_test, m_random_forest), 3))\n",
    "# Calculate metrics for each label, and find their unweighted mean. This does not take label imbalance into account.\n",
    "print('F1 Score: ', round(f1_score(y_test, m_random_forest, average=\"macro\"), 3))\n",
    "\n",
    "print('Cohens Kappa :', round(cohen_kappa_score(y_test , m_random_forest), 3))\n",
    "# Combination of Accuracy, Precision, Recall \n",
    "print(\"Classification Report :\\n\", classification_report(y_test, m_random_forest))\n",
    "\n",
    "cvs = cross_val_score(clf, data, labels, cv=10)\n",
    "\n",
    "print('K-fold Cross Validation scores:')\n",
    "print('Max Score: ', round(max(cvs), 3))\n",
    "print('Min Score: ', round(min(cvs), 3))\n",
    "print('Mean Score :', round(mean(cvs), 3))\n",
    "\n",
    "\n",
    "##############################\n",
    "# Testing model on test data #\n",
    "##############################\n",
    "\n",
    "X_test, y_test = train_test_split(test_data_df, test_size=1, random_state=100) # 70% training and 30% testprint(\"after split check\", len(X_test),  len(y_test))\n",
    "m_random_forest = clf.predict(test_data_df)\n",
    "# probability preformed really bad, so i think 0 or 1 is a better \n",
    "# y_predict_proba = clf.predict_proba(test_data_df)\n",
    "submition_csv['Probability'] = m_random_forest\n",
    "submition_csv\n",
    "submition_csv.to_csv('m_random_forest_submition.csv', index=False)"
   ]
  },
  {
   "cell_type": "code",
   "execution_count": 242,
   "metadata": {},
   "outputs": [
    {
     "data": {
      "image/png": "[encoded data removed]",
      "text/plain": [
       "<Figure size 432x288 with 1 Axes>"
      ]
     },
     "metadata": {
      "needs_background": "light"
     },
     "output_type": "display_data"
    }
   ],
   "source": [
    "X_train, X_test, y_train, y_test = train_test_split(data, labels, \n",
    "                                                    test_size=0.3, \n",
    "                                                    random_state=100) \n",
    "clf = RandomForestClassifier(n_estimators=100)\n",
    "clf.fit(X_train,y_train)\n",
    "m_randomForest = clf.predict(X_test)\n",
    "\n",
    "fpr, tpr, threshold = metrics.roc_curve(y_test, m_randomForest)\n",
    "roc_auc = metrics.auc(fpr, tpr)\n",
    "plt.title('Receiver Operating Characteristic')\n",
    "plt.plot(fpr, tpr, 'b', label = 'AUC = %0.2f' % roc_auc)\n",
    "plt.legend(loc = 'lower right')\n",
    "plt.plot([0, 1], [0, 1],'r--')\n",
    "plt.xlim([0, 1])\n",
    "plt.ylim([0, 1])\n",
    "plt.ylabel('True Positive Rate')\n",
    "plt.xlabel('False Positive Rate')\n",
    "plt.show()"
   ]
  },
  {
   "cell_type": "code",
   "execution_count": 249,
   "metadata": {},
   "outputs": [
    {
     "data": {
      "text/plain": [
       "Text(0, 0.5, 'Accuracy Score')"
      ]
     },
     "execution_count": 249,
     "metadata": {},
     "output_type": "execute_result"
    },
    {
     "data": {
      "image/png": "[encoded data removed]",
      "text/plain": [
       "<Figure size 432x288 with 1 Axes>"
      ]
     },
     "metadata": {
      "needs_background": "light"
     },
     "output_type": "display_data"
    }
   ],
   "source": [
    "# Learn rate Curve\n",
    "# uses k-cross validation = 5 by default\n",
    "train_sizes, train_scores, test_scores = learning_curve(estimator = RandomForestClassifier(), \n",
    "                                                        X = data, \n",
    "                                                        y = labels,\n",
    "                                                        cv=10,\n",
    "                                                        scoring='accuracy',\n",
    "                                                        n_jobs=-1)\n",
    "\n",
    "plt.plot(train_sizes, np.mean(train_scores, axis=1))\n",
    "plt.title(\"Learn Curve for SVM Model\")\n",
    "plt.xlabel(\"Training Set Size\")\n",
    "plt.ylabel(\"Accuracy Score\")"
   ]
  },
  {
   "cell_type": "markdown",
   "metadata": {},
   "source": [
    "# Neural Network\n",
    "- Kaggle best 0.0%\n",
    "- [Back To Top](#Index)\n",
    "- [Models](#Models)"
   ]
  },
  {
   "cell_type": "code",
   "execution_count": 259,
   "metadata": {},
   "outputs": [
    {
     "name": "stdout",
     "output_type": "stream",
     "text": [
      "Accuracy on training set: 1.000\n",
      "Accuracy on test set: 0.769\n"
     ]
    },
    {
     "name": "stderr",
     "output_type": "stream",
     "text": [
      "C:\\Users\\Grim\\anaconda3\\lib\\site-packages\\sklearn\\neural_network\\_multilayer_perceptron.py:582: ConvergenceWarning: Stochastic Optimizer: Maximum iterations (100) reached and the optimization hasn't converged yet.\n",
      "  warnings.warn(\n",
      "C:\\Users\\Grim\\anaconda3\\lib\\site-packages\\sklearn\\neural_network\\_multilayer_perceptron.py:582: ConvergenceWarning: Stochastic Optimizer: Maximum iterations (100) reached and the optimization hasn't converged yet.\n",
      "  warnings.warn(\n",
      "C:\\Users\\Grim\\anaconda3\\lib\\site-packages\\sklearn\\neural_network\\_multilayer_perceptron.py:582: ConvergenceWarning: Stochastic Optimizer: Maximum iterations (100) reached and the optimization hasn't converged yet.\n",
      "  warnings.warn(\n",
      "C:\\Users\\Grim\\anaconda3\\lib\\site-packages\\sklearn\\neural_network\\_multilayer_perceptron.py:582: ConvergenceWarning: Stochastic Optimizer: Maximum iterations (100) reached and the optimization hasn't converged yet.\n",
      "  warnings.warn(\n",
      "C:\\Users\\Grim\\anaconda3\\lib\\site-packages\\sklearn\\neural_network\\_multilayer_perceptron.py:582: ConvergenceWarning: Stochastic Optimizer: Maximum iterations (100) reached and the optimization hasn't converged yet.\n",
      "  warnings.warn(\n",
      "C:\\Users\\Grim\\anaconda3\\lib\\site-packages\\sklearn\\neural_network\\_multilayer_perceptron.py:582: ConvergenceWarning: Stochastic Optimizer: Maximum iterations (100) reached and the optimization hasn't converged yet.\n",
      "  warnings.warn(\n",
      "C:\\Users\\Grim\\anaconda3\\lib\\site-packages\\sklearn\\neural_network\\_multilayer_perceptron.py:582: ConvergenceWarning: Stochastic Optimizer: Maximum iterations (100) reached and the optimization hasn't converged yet.\n",
      "  warnings.warn(\n",
      "C:\\Users\\Grim\\anaconda3\\lib\\site-packages\\sklearn\\neural_network\\_multilayer_perceptron.py:582: ConvergenceWarning: Stochastic Optimizer: Maximum iterations (100) reached and the optimization hasn't converged yet.\n",
      "  warnings.warn(\n",
      "C:\\Users\\Grim\\anaconda3\\lib\\site-packages\\sklearn\\neural_network\\_multilayer_perceptron.py:582: ConvergenceWarning: Stochastic Optimizer: Maximum iterations (100) reached and the optimization hasn't converged yet.\n",
      "  warnings.warn(\n",
      "C:\\Users\\Grim\\anaconda3\\lib\\site-packages\\sklearn\\neural_network\\_multilayer_perceptron.py:582: ConvergenceWarning: Stochastic Optimizer: Maximum iterations (100) reached and the optimization hasn't converged yet.\n",
      "  warnings.warn(\n"
     ]
    },
    {
     "name": "stdout",
     "output_type": "stream",
     "text": [
      "K-fold Cross Validation scores:\n",
      "Max Score:  0.889\n",
      "Min Score:  0.444\n",
      "Mean Score : 0.724\n"
     ]
    }
   ],
   "source": [
    "from sklearn.model_selection import GridSearchCV\n",
    "clf = GridSearchCV(MLPClassifier(), param_grid, cv=3,\n",
    "                           scoring='accuracy')\n",
    "clf.fit(X,y)\n",
    "\n",
    "\n",
    "print(\"Best parameters set found on development set:\")\n",
    "print(clf.best_params_)\n",
    "\n",
    "###########################################\n",
    "# Neural Network Model -  #\n",
    "###########################################\n",
    "\n",
    "X_train, X_test, y_train, y_test = train_test_split(data, labels, test_size= 0.3, random_state=2)\n",
    "\n",
    "scaler = preprocessing.StandardScaler().fit(X_train)\n",
    "X_train_scaled = scaler.transform(X_train)\n",
    "X_test_scaled = scaler.transform(X_test)\n",
    "\n",
    "mlp = MLPClassifier(random_state=0, max_iter=100)\n",
    "\n",
    "mlp.fit(X_train_scaled, y_train)\n",
    "m_nn = mlp.predict(scaler.transform(test_data_df))\n",
    "\n",
    "print(\"Accuracy on training set: {:.3f}\".format(mlp.score(X_train_scaled, y_train)))\n",
    "print(\"Accuracy on test set: {:.3f}\".format(mlp.score(X_test_scaled, y_test))) \n",
    "# Calculate metrics for each label, and find their unweighted mean. This does not take label imbalance into account.\n",
    "\n",
    "cvs = cross_val_score(mlp, data, labels, cv=10)\n",
    "\n",
    "print('K-fold Cross Validation scores:')\n",
    "print('Max Score: ', round(max(cvs), 3))\n",
    "print('Min Score: ', round(min(cvs), 3))\n",
    "print('Mean Score :', round(mean(cvs), 3))\n",
    "\n",
    "submition_csv['Probability'] = m_nn\n",
    "submition_csv\n",
    "submition_csv.to_csv('m_nn_submition.csv', index=False)"
   ]
  },
  {
   "cell_type": "markdown",
   "metadata": {},
   "source": [
    "# LinearDiscriminantAnalysis Model\n",
    "- Kaggle best 68.4%\n",
    "- [Back To Top](#Index)\n",
    "- [Models](#Models)"
   ]
  },
  {
   "cell_type": "code",
   "execution_count": 20,
   "metadata": {},
   "outputs": [
    {
     "name": "stdout",
     "output_type": "stream",
     "text": [
      "Model Evaluation\n",
      "Model Accuracy: 0.692\n",
      "Model Precision: 0.625\n",
      "Model Recall: 0.833\n"
     ]
    }
   ],
   "source": [
    "# look up https://scikit-learn.org/stable/modules/generated/sklearn.discriminant_analysis.LinearDiscriminantAnalysis.html\n",
    "\n",
    "# Split dataset into training set and test set\n",
    "X_train, X_test, y_train, y_test = train_test_split(data, labels, test_size=0.3, random_state=109) # 70% training and 30% test\n",
    "#Create a LinearDiscriminantAnalysis\n",
    "clf = LinearDiscriminantAnalysis()\n",
    "\n",
    "#Train the model using the training sets\n",
    "clf.fit(X_train, y_train)\n",
    "\n",
    "#Predict the response for test dataset\n",
    "linear_disc_analysis_m = clf.predict(X_test)\n",
    "\n",
    "####################\n",
    "# Model Evaluation #\n",
    "####################\n",
    "# read again, refresh memory https://www.jeremyjordan.me/evaluating-a-machine-learning-model/\n",
    "# read up on random_state=109 why, without it model is bad \n",
    "# https://www.datacamp.com/community/tutorials/svm-classification-scikit-learn-python\n",
    "\n",
    "print ('Model Evaluation')\n",
    "\n",
    "# Model Accuracy: how often is the classifier correct\n",
    "print(\"Model Accuracy:\", round(metrics.accuracy_score(y_test, linear_disc_analysis_m), 3))\n",
    "\n",
    "# Model Precision: what percentage of positive tuples are labeled as such\n",
    "print(\"Model Precision:\", round(metrics.precision_score(y_test, linear_disc_analysis_m), 3))\n",
    "\n",
    "# Model Recall: what percentage of positive tuples are labelled as such\n",
    "print(\"Model Recall:\", round(metrics.recall_score(y_test, linear_disc_analysis_m), 3))\n",
    "\n",
    "\n",
    "##############################\n",
    "# Testing model on test data #\n",
    "##############################\n",
    "\n",
    "X_test, y_test = train_test_split(test_data_df, test_size=1, random_state=109) # 70% training and 30% testprint(\"after split check\", len(X_test),  len(y_test))\n",
    "linear_disc_analysis_m = clf.predict(test_data_df)\n",
    "# probability preformed really bad, so i think 0 or 1 is a better \n",
    "# y_predict_proba = clf.predict_proba(test_data_df)\n",
    "submition_csv['Probability'] = linear_disc_analysis_m\n",
    "submition_csv\n",
    "submition_csv.to_csv('test_submition.csv', index=False)\n"
   ]
  },
  {
   "cell_type": "markdown",
   "metadata": {},
   "source": [
    "# Model Evaluation Visualisations"
   ]
  },
  {
   "cell_type": "markdown",
   "metadata": {},
   "source": [
    "* [Back To Top](#Index)\n",
    "    * [Roc](#Roc)\n",
    "    * [Learn Rate](#Learn-Rate)\n",
    "    * [idk](#idk)\n",
    "    * [idk2](#idk2)"
   ]
  },
  {
   "cell_type": "markdown",
   "metadata": {},
   "source": [
    "# Roc\n",
    "- [Back To Top](#Index)\n",
    "- [Model Evaluation Visualisations](#Model-Evaluation-Visualisations)"
   ]
  },
  {
   "cell_type": "code",
   "execution_count": 23,
   "metadata": {},
   "outputs": [
    {
     "ename": "NameError",
     "evalue": "name 'roc_curve' is not defined",
     "output_type": "error",
     "traceback": [
      "\u001b[1;31m---------------------------------------------------------------------------\u001b[0m",
      "\u001b[1;31mNameError\u001b[0m                                 Traceback (most recent call last)",
      "\u001b[1;32m<ipython-input-23-1d309337bed1>\u001b[0m in \u001b[0;36m<module>\u001b[1;34m\u001b[0m\n\u001b[1;32m----> 1\u001b[1;33m \u001b[0mfprS\u001b[0m\u001b[1;33m,\u001b[0m \u001b[0mtprS\u001b[0m\u001b[1;33m,\u001b[0m \u001b[0mt\u001b[0m \u001b[1;33m=\u001b[0m \u001b[0mroc_curve\u001b[0m\u001b[1;33m(\u001b[0m\u001b[0my_test\u001b[0m\u001b[1;33m,\u001b[0m \u001b[0my_score\u001b[0m\u001b[1;33m)\u001b[0m\u001b[1;33m\u001b[0m\u001b[1;33m\u001b[0m\u001b[0m\n\u001b[0m\u001b[0;32m      2\u001b[0m \u001b[0mroc_aucS\u001b[0m \u001b[1;33m=\u001b[0m \u001b[0mauc\u001b[0m\u001b[1;33m(\u001b[0m\u001b[0mfprS\u001b[0m\u001b[1;33m,\u001b[0m \u001b[0mtprS\u001b[0m\u001b[1;33m)\u001b[0m\u001b[1;33m\u001b[0m\u001b[1;33m\u001b[0m\u001b[0m\n\u001b[0;32m      3\u001b[0m \u001b[1;33m\u001b[0m\u001b[0m\n\u001b[0;32m      4\u001b[0m \u001b[0mget_ipython\u001b[0m\u001b[1;33m(\u001b[0m\u001b[1;33m)\u001b[0m\u001b[1;33m.\u001b[0m\u001b[0mrun_line_magic\u001b[0m\u001b[1;33m(\u001b[0m\u001b[1;34m'matplotlib'\u001b[0m\u001b[1;33m,\u001b[0m \u001b[1;34m'inline'\u001b[0m\u001b[1;33m)\u001b[0m\u001b[1;33m\u001b[0m\u001b[1;33m\u001b[0m\u001b[0m\n\u001b[0;32m      5\u001b[0m \u001b[0mplt\u001b[0m\u001b[1;33m.\u001b[0m\u001b[0mfigure\u001b[0m\u001b[1;33m(\u001b[0m\u001b[1;33m)\u001b[0m\u001b[1;33m\u001b[0m\u001b[1;33m\u001b[0m\u001b[0m\n",
      "\u001b[1;31mNameError\u001b[0m: name 'roc_curve' is not defined"
     ]
    }
   ],
   "source": [
    "fprS, tprS, t = roc_curve(y_test, y_score)\n",
    "roc_aucS = auc(fprS, tprS)\n",
    "\n",
    "%matplotlib inline\n",
    "plt.figure()\n",
    "lw = 2\n",
    "plt.plot(fprG, tprG, color='red',\n",
    "         lw=lw, label='ROC NB (area = %0.2f)' % roc_aucG)\n",
    "plt.plot(fprD, tprD, color='green',\n",
    "         lw=lw, label='ROC Dtree (area = %0.2f)' % roc_aucD)\n",
    "plt.plot(fprS, tprS, color='grey',\n",
    "         lw=lw, label='ROC SVM (area = %0.2f)' % roc_aucS)\n",
    "\n",
    "\n",
    "plt.plot([0, 1], [0, 1], color='navy', lw=lw, linestyle='--')\n",
    "plt.xlim([0.0, 1.0])\n",
    "plt.ylim([0.0, 1.0])\n",
    "plt.xlabel('False Positive Rate')\n",
    "plt.ylabel('True Positive Rate')\n",
    "plt.title('ROC Analysis for Hotel Review data')\n",
    "plt.legend(loc=\"lower right\")\n",
    "plt.show()"
   ]
  },
  {
   "cell_type": "markdown",
   "metadata": {},
   "source": [
    "# Learn Rate\n",
    "- [Back To Top](#Index)\n",
    "- [Model Evaluation Visualisations](#Model-Evaluation-Visualisations)"
   ]
  },
  {
   "cell_type": "code",
   "execution_count": null,
   "metadata": {},
   "outputs": [],
   "source": [
    "reps=300\n",
    "num = 30\n",
    "ho_s = []\n",
    "s_s = []\n",
    "for i in range(1,num):\n",
    "    s = i/num\n",
    "    for j in range(reps):\n",
    "        ss =[]\n",
    "        X_train, X_test, y_train, y_test = train_test_split(X, y, train_size = s)\n",
    "        y_pred = dtree.fit(X_train, y_train).predict(X_test)\n",
    "        acc = accuracy_score(y_test, y_pred)\n",
    "        ss.append(acc)\n",
    "    ho_s.append(mean(ss))\n",
    "    s_s.append(s)\n",
    "    \n",
    "ho_s = pd.DataFrame(ho_s, index = s_s, columns = ['Hold Out'])\n",
    "ax = ho_s.plot()\n",
    "ax.set_xlabel(\"Train Set Proportion\")\n",
    "ax.set_ylabel(\"Accuracy\")\n",
    "ax.set_title(\"Accuracy: Train Set Size\")"
   ]
  },
  {
   "cell_type": "markdown",
   "metadata": {},
   "source": [
    "# idk\n",
    "- [Back To Top](#Index)\n",
    "- [Model Evaluation Visualisations](#Model-Evaluation-Visualisations)"
   ]
  },
  {
   "cell_type": "code",
   "execution_count": null,
   "metadata": {},
   "outputs": [],
   "source": [
    "xv = []\n",
    "for i in range(reps):\n",
    "    kf = KFold(n_splits=10, shuffle = True) # needed to ensure shuffling\n",
    "    scores = cross_val_score(dtree, X, y, cv=kf)\n",
    "    xv.append(scores.mean())\n",
    "    \n",
    "    \n",
    "    \n",
    "res = pd.DataFrame(ho, columns = ['Hold Out'])\n",
    "res['X Val']=xv\n",
    "%matplotlib inline\n",
    "ax = res.plot()\n",
    "ax.set_xlabel(\"Iteration\")\n",
    "ax.set_ylabel(\"Accuracy\")\n",
    "ax.set_title(\"Accuracy: Hold Out and X Val\")"
   ]
  },
  {
   "cell_type": "markdown",
   "metadata": {},
   "source": [
    "# idk2\n",
    "- [Back To Top](#Index)\n",
    "- [Model Evaluation Visualisations](#Model-Evaluation-Visualisations)"
   ]
  },
  {
   "cell_type": "code",
   "execution_count": null,
   "metadata": {},
   "outputs": [],
   "source": [
    "# data vis block\n",
    "%matplotlib inline\n",
    "\n",
    "def plot_confusion_matrix(y_true, y_pred, classes,\n",
    "                          normalize=False,\n",
    "                          title=None,\n",
    "                          cmap=plt.cm.Blues):\n",
    "    \"\"\"\n",
    "    This function prints and plots the confusion matrix.\n",
    "    Normalization can be applied by setting `normalize=True`.\n",
    "    \"\"\"\n",
    "    if not title:\n",
    "        if normalize:\n",
    "            title = 'Normalized confusion matrix'\n",
    "        else:\n",
    "            title = 'Confusion matrix, without normalization'\n",
    "\n",
    "    # Compute confusion matrix\n",
    "    cm = confusion_matrix(y_true, y_pred)\n",
    "    # Only use the labels that appear in the data\n",
    "    #classes = classes[unique_labels(y_true, y_pred)]\n",
    "    if normalize:\n",
    "        cm = cm.astype('float') / cm.sum(axis=1)[:, np.newaxis]\n",
    "        print(\"Normalized confusion matrix\")\n",
    "    else:\n",
    "        print('Confusion matrix, without normalization')\n",
    "\n",
    "    print(cm)\n",
    "\n",
    "    fig, ax = plt.subplots()\n",
    "    im = ax.imshow(cm, interpolation='nearest', cmap=cmap)\n",
    "    ax.figure.colorbar(im, ax=ax)\n",
    "    # We want to show all ticks...\n",
    "    ax.set(xticks=np.arange(cm.shape[1]),\n",
    "           yticks=np.arange(cm.shape[0]),\n",
    "           # ... and label them with the respective list entries\n",
    "           xticklabels=classes, yticklabels=classes,\n",
    "           title=title,\n",
    "           ylabel='True label',\n",
    "           xlabel='Predicted label')\n",
    "\n",
    "    # Rotate the tick labels and set their alignment.\n",
    "    plt.setp(ax.get_xticklabels(), rotation=45, ha=\"right\",\n",
    "             rotation_mode=\"anchor\")\n",
    "\n",
    "    # Loop over data dimensions and create text annotations.\n",
    "    fmt = '.2f' if normalize else 'd'\n",
    "    thresh = cm.max() / 2.\n",
    "    for i in range(cm.shape[0]):\n",
    "        for j in range(cm.shape[1]):\n",
    "            ax.text(j, i, format(cm[i, j], fmt),\n",
    "                    ha=\"center\", va=\"center\",\n",
    "                    color=\"white\" if cm[i, j] > thresh else \"black\")\n",
    "    fig.tight_layout()\n",
    "    return ax\n",
    "\n",
    "\n",
    "np.set_printoptions(precision=2)\n",
    "\n",
    "# Plot non-normalized confusion matrix\n",
    "plot_confusion_matrix(y_test, y_dash, classes=['Not Helpful','Helpful'],\n",
    "                      title='Confusion matrix, without normalization')\n",
    "\n",
    "# Plot normalized confusion matrix\n",
    "plot_confusion_matrix(y_test, y_dash, classes=['Not Helpful','Helpful'], normalize=True,\n",
    "                      title='Normalized confusion matrix')\n",
    "\n",
    "plt.show()"
   ]
  }
 ],
 "metadata": {
  "kernelspec": {
   "display_name": "Python 3",
   "language": "python",
   "name": "python3"
  },
  "language_info": {
   "codemirror_mode": {
    "name": "ipython",
    "version": 3
   },
   "file_extension": ".py",
   "mimetype": "text/x-python",
   "name": "python",
   "nbconvert_exporter": "python",
   "pygments_lexer": "ipython3",
   "version": "3.8.5"
  }
 },
 "nbformat": 4,
 "nbformat_minor": 4
}
